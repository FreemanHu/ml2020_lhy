{
 "cells": [
  {
   "cell_type": "markdown",
   "metadata": {},
   "source": [
    "# 版本说明v6 #\n",
    "1. 使用LinearRegressor\n",
    "2. 使用pipeline\n",
    "3. 添加自定义的Transformer，可以选择指定的成分\n",
    "4. 针对各个参数进行了调优\n",
    "5. 封装了工具方法\n",
    "6. 是mse作为scoring\n",
    "7. 对原始数据重新排序"
   ]
  },
  {
   "cell_type": "markdown",
   "metadata": {},
   "source": [
    "# 拆分训练集和验证集 #"
   ]
  },
  {
   "cell_type": "code",
   "execution_count": 2,
   "metadata": {},
   "outputs": [],
   "source": [
    "from hw1_utils_v5 import *\n",
    "from sklearn.model_selection import train_test_split\n",
    "%load_ext autoreload\n",
    "%autoreload 2\n",
    "\n",
    "X_train_full,y_train_full,X_test,test_options = load_data() # 加载训练和测试数据\n",
    "\n",
    "n_features = X_train_full.shape[1]"
   ]
  },
  {
   "cell_type": "code",
   "execution_count": 3,
   "metadata": {},
   "outputs": [],
   "source": [
    "new_index = np.arange(X_train_full.shape[0])\n",
    "np.random.RandomState(0).shuffle(new_index) # 生成新的索引"
   ]
  },
  {
   "cell_type": "code",
   "execution_count": 20,
   "metadata": {},
   "outputs": [],
   "source": [
    "# 重新排序一下\n",
    "X_train_full = X_train_full.reindex(new_index)\n",
    "y_train_full = pd.DataFrame(y_train_full).reindex(new_index).to_numpy().ravel()"
   ]
  },
  {
   "cell_type": "code",
   "execution_count": 5,
   "metadata": {},
   "outputs": [],
   "source": [
    "X_train_full.index = range(X_train_full.shape[0]) # 重新生成一下index"
   ]
  },
  {
   "cell_type": "markdown",
   "metadata": {},
   "source": [
    "# 使用LinearRegression模型 ##"
   ]
  },
  {
   "cell_type": "code",
   "execution_count": 6,
   "metadata": {},
   "outputs": [
    {
     "data": {
      "text/plain": [
       "5.915237888430732"
      ]
     },
     "execution_count": 6,
     "metadata": {},
     "output_type": "execute_result"
    }
   ],
   "source": [
    "from sklearn.model_selection import cross_val_score\n",
    "from sklearn.linear_model import LinearRegression\n",
    "\n",
    "def rmse_cross_val_score(model,X,y):\n",
    "    return cross_val_score(model,X,y,scoring='neg_root_mean_squared_error').mean() * -1\n",
    "    \n",
    "rmse_cross_val_score(LinearRegression(),X_train_full,y_train_full)"
   ]
  },
  {
   "cell_type": "markdown",
   "metadata": {},
   "source": [
    "## 有用的方法 ##\n",
    "**删除无关测项**   \n",
    "1. 将所有feature放进去，计算cv_score，记录为best score\n",
    "2. 然后分别减掉一个feature，选出最高的cv_score，如果，如果比best_score，那么去掉这个feature\n",
    "3. 然后重复上面的操作，直到最高的score不再比best_score高为止。  \n",
    "\n",
    "**嵌入法**：threshold = 0.0111   \n",
    "\n",
    "## 被排除的方法如下：##\n",
    "**方差过滤**：基本没有影响   \n",
    "**F值过滤**：最大的p也只有e-26   \n",
    "**互信息法**：没有可以删除的feature   \n",
    "**分箱法**：没有用   "
   ]
  },
  {
   "cell_type": "code",
   "execution_count": 7,
   "metadata": {},
   "outputs": [
    {
     "name": "stdout",
     "output_type": "stream",
     "text": [
      "剔除NMHC后，训练集得分为-5.6605，验证集得分为-5.9024\n",
      "剔除THC后，训练集得分为-5.6631，验证集得分为-5.8908\n",
      "剔除CH4后，训练集得分为-5.6737，验证集得分为-5.8832\n",
      "剔除WIND_SPEED后，训练集得分为-5.6777，验证集得分为-5.8777\n",
      "剔除SO2后，训练集得分为-5.6963，验证集得分为-5.8719\n",
      "剔除WD_HR后，训练集得分为-5.7049，验证集得分为-5.8678\n",
      "剔除RH后，训练集得分为-5.7208，验证集得分为-5.8643\n",
      "剔除AMB_TEMP后，训练集得分为-5.7276，验证集得分为-5.8587\n",
      "剔除NO后，训练集得分为-5.7343，验证集得分为-5.8561\n",
      "剔除WS_HR后，训练集得分为-5.7409，验证集得分为-5.8540\n",
      "剔除NOx后，训练集得分为-5.7503，验证集得分为-5.8532\n",
      "剔除RAINFALL后，训练集得分为-5.7570，验证集得分为-5.8528\n",
      "剔除完成。\n"
     ]
    }
   ],
   "source": [
    "from sklearn.pipeline import Pipeline\n",
    "\n",
    "options = SelectTestOptionTransformer()\n",
    "pipeline = Pipeline(steps=[('options',options),\n",
    "                           ('model',LinearRegression())])\n",
    "options.exclude = []\n",
    "\n",
    "train_best_scores = []\n",
    "valid_best_scores = []\n",
    "exclude_params = [] # 已经被排除的测项\n",
    "best_score = -5.915237888430732\n",
    "flag = True\n",
    "while flag:\n",
    "    # 将已经排除的加上一个新的测项，作为本次遍历的已排除测项\n",
    "    param_range = [exclude_params + [test_options[i]] for i in range(18)]\n",
    "    \n",
    "    train_scores,valid_scores = validation_curve(pipeline,X_train_full,y_train_full,\n",
    "                                                 'options__exclude',param_range,\n",
    "                                                 scoring='neg_root_mean_squared_error')\n",
    "    \n",
    "    valid_score = valid_scores.mean(axis=1)              # 取验证集每个feature的平均分\n",
    "    valid_max = valid_score.max()                        # 取出最高分\n",
    "    valid_argmax = valid_score.argmax()                  # 最高分对应的feature值\n",
    "    train_max = train_scores.mean(axis=1)[valid_argmax]  # 该feature在训练集的分数作为训练集最高分\n",
    "    \n",
    "    if valid_max > best_score:\n",
    "        train_best_scores.append(train_max)\n",
    "        valid_best_scores.append(valid_max)\n",
    "        best_score = valid_max\n",
    "        if len(valid_score) > 1:\n",
    "            test_option_killed = test_options[valid_argmax]\n",
    "            exclude_params.append(test_option_killed)\n",
    "        print('剔除{}后，训练集得分为{:.4f}，验证集得分为{:.4f}'.format(\n",
    "            test_option_killed,train_max,valid_max))\n",
    "            \n",
    "    else:\n",
    "        print('剔除完成。')\n",
    "        flag = False"
   ]
  },
  {
   "cell_type": "markdown",
   "metadata": {},
   "source": [
    "## 噪音过滤后的学习曲线 ##"
   ]
  },
  {
   "cell_type": "code",
   "execution_count": 8,
   "metadata": {},
   "outputs": [
    {
     "data": {
      "image/png": "[encoded data removed]",
      "text/plain": [
       "<Figure size 432x288 with 1 Axes>"
      ]
     },
     "metadata": {
      "needs_background": "light"
     },
     "output_type": "display_data"
    }
   ],
   "source": [
    "def plot_best_scores():\n",
    "    x = len(train_best_scores)\n",
    "    plt.plot(range(x),train_best_scores,label='train score')\n",
    "    plt.plot(range(x),valid_best_scores,label='valid score')\n",
    "    plt.legend()\n",
    "    plt.show()\n",
    "    \n",
    "plot_best_scores()"
   ]
  },
  {
   "cell_type": "code",
   "execution_count": 9,
   "metadata": {},
   "outputs": [
    {
     "data": {
      "text/plain": [
       "5.8528064193839295"
      ]
     },
     "execution_count": 9,
     "metadata": {},
     "output_type": "execute_result"
    }
   ],
   "source": [
    "best_score * (-1)"
   ]
  },
  {
   "cell_type": "code",
   "execution_count": 10,
   "metadata": {},
   "outputs": [
    {
     "name": "stdout",
     "output_type": "stream",
     "text": [
      "['NMHC', 'THC', 'CH4', 'WIND_SPEED', 'SO2', 'WD_HR', 'RH', 'AMB_TEMP', 'NO', 'WS_HR', 'NOx', 'RAINFALL']\n"
     ]
    }
   ],
   "source": [
    "print(exclude_params)"
   ]
  },
  {
   "cell_type": "markdown",
   "metadata": {},
   "source": [
    "# 标准化 "
   ]
  },
  {
   "cell_type": "code",
   "execution_count": 12,
   "metadata": {},
   "outputs": [
    {
     "data": {
      "text/plain": [
       "5.8528064193839295"
      ]
     },
     "execution_count": 12,
     "metadata": {},
     "output_type": "execute_result"
    }
   ],
   "source": [
    "from sklearn.preprocessing import StandardScaler\n",
    "\n",
    "exclude_params = ['NMHC', 'THC', 'CH4', 'WIND_SPEED', 'SO2', 'WD_HR', 'RH', \n",
    "                  'AMB_TEMP', 'NO', 'WS_HR', 'NOx', 'RAINFALL']\n",
    "\n",
    "pipeline = Pipeline(steps=[('options',SelectTestOptionTransformer(exclude_params)),\n",
    "                           ('std',StandardScaler()),\n",
    "                           ('model',LinearRegression())])\n",
    "\n",
    "cross_val_score(pipeline,X_train_full,y_train_full,n_jobs=-1,\n",
    "                scoring='neg_root_mean_squared_error').mean() * (-1)"
   ]
  },
  {
   "cell_type": "markdown",
   "metadata": {},
   "source": [
    "# 方差过滤 #\n",
    "**总结**：方差过滤没有影响"
   ]
  },
  {
   "cell_type": "code",
   "execution_count": 13,
   "metadata": {},
   "outputs": [],
   "source": [
    "from sklearn.feature_selection import VarianceThreshold\n",
    "\n",
    "exclude_params = ['NMHC', 'THC', 'CH4', 'WIND_SPEED', 'SO2', 'WD_HR', 'RH', \n",
    "                  'AMB_TEMP', 'NO', 'WS_HR', 'NOx', 'RAINFALL']\n",
    "\n",
    "pipeline = Pipeline(steps=[('options',SelectTestOptionTransformer(exclude_params)),\n",
    "                           ('std',StandardScaler()),\n",
    "                           ('vt',VarianceThreshold()),\n",
    "                           ('model',LinearRegression())])"
   ]
  },
  {
   "cell_type": "code",
   "execution_count": 14,
   "metadata": {},
   "outputs": [],
   "source": [
    "treshold_range = [0.01 * i for i in range(20)]\n",
    "\n",
    "train_scores,valid_scores = validation_curve(pipeline,X_train_full,y_train_full,\n",
    "                                             'vt__threshold',treshold_range,\n",
    "                                             scoring='neg_root_mean_squared_error')"
   ]
  },
  {
   "cell_type": "code",
   "execution_count": 17,
   "metadata": {},
   "outputs": [
    {
     "data": {
      "image/png": "[encoded data removed]",
      "text/plain": [
       "<Figure size 432x288 with 1 Axes>"
      ]
     },
     "metadata": {
      "needs_background": "light"
     },
     "output_type": "display_data"
    },
    {
     "data": {
      "text/plain": [
       "(0.0, -5.85280641938393)"
      ]
     },
     "execution_count": 17,
     "metadata": {},
     "output_type": "execute_result"
    }
   ],
   "source": [
    "plot_validation_curve(train_scores,valid_scores,treshold_range,ylim=(-5.86,-5.75))"
   ]
  },
  {
   "cell_type": "markdown",
   "metadata": {},
   "source": [
    "# F值过滤 #\n",
    "**总结**：p值基本都等于0，虽然学习曲线44的时候值最大，但是把cv调到10之后，33的是最大，存在很大的随机性，而且数字差别也不大，暂时不用F值过滤"
   ]
  },
  {
   "cell_type": "code",
   "execution_count": 28,
   "metadata": {
    "scrolled": true
   },
   "outputs": [
    {
     "name": "stderr",
     "output_type": "stream",
     "text": [
      "[Parallel(n_jobs=-1)]: Using backend LokyBackend with 4 concurrent workers.\n",
      "[Parallel(n_jobs=-1)]: Done 270 out of 270 | elapsed:   18.6s finished\n"
     ]
    }
   ],
   "source": [
    "from sklearn.feature_selection import SelectKBest\n",
    "from sklearn.feature_selection import f_regression\n",
    "\n",
    "exclude_params = ['NMHC', 'THC', 'CH4', 'WIND_SPEED', 'SO2', 'WD_HR', 'RH', \n",
    "                  'AMB_TEMP', 'NO', 'WS_HR', 'NOx', 'RAINFALL']\n",
    "\n",
    "f_range = range(1,55)\n",
    "\n",
    "pipeline = Pipeline(steps=[('options',SelectTestOptionTransformer(exclude_params)),\n",
    "                           ('std',StandardScaler()),\n",
    "                           ('f',SelectKBest(f_regression)),\n",
    "                           ('model',LinearRegression())])\n",
    "train_scores,valid_scores = validation_curve(pipeline,X_train_full,y_train_full,\n",
    "                                             'f__k',f_range,n_jobs=-1,\n",
    "                                             error_score=0,verbose=1,cv=5,\n",
    "                                             scoring='neg_root_mean_squared_error')"
   ]
  },
  {
   "cell_type": "code",
   "execution_count": 29,
   "metadata": {},
   "outputs": [
    {
     "data": {
      "image/png": "[encoded data removed]",
      "text/plain": [
       "<Figure size 432x288 with 1 Axes>"
      ]
     },
     "metadata": {
      "needs_background": "light"
     },
     "output_type": "display_data"
    },
    {
     "data": {
      "text/plain": [
       "(33, -5.8404649538892714)"
      ]
     },
     "execution_count": 29,
     "metadata": {},
     "output_type": "execute_result"
    }
   ],
   "source": [
    "plot_validation_curve(train_scores,valid_scores,f_range)"
   ]
  },
  {
   "cell_type": "markdown",
   "metadata": {},
   "source": [
    "# 互信息法"
   ]
  },
  {
   "cell_type": "code",
   "execution_count": 35,
   "metadata": {},
   "outputs": [
    {
     "name": "stderr",
     "output_type": "stream",
     "text": [
      "[Parallel(n_jobs=-1)]: Using backend LokyBackend with 4 concurrent workers.\n",
      "[Parallel(n_jobs=-1)]: Done  25 out of  25 | elapsed:   29.7s finished\n"
     ]
    }
   ],
   "source": [
    "from sklearn.feature_selection import SelectKBest\n",
    "from sklearn.feature_selection import mutual_info_regression\n",
    "\n",
    "\n",
    "exclude_params =  ['NMHC', 'THC', 'CH4', 'WIND_SPEED', 'SO2', 'WD_HR', 'RH', \n",
    "                  'AMB_TEMP', 'NO', 'WS_HR', 'NOx', 'RAINFALL']\n",
    "\n",
    "pipeline = Pipeline(steps=[('options',SelectTestOptionTransformer(exclude_params)),\n",
    "                           ('std',StandardScaler()),\n",
    "                           ('f',SelectKBest(f_regression,33)),\n",
    "                           ('mir',SelectKBest(mutual_info_regression)),\n",
    "                           ('model',LinearRegression())])\n",
    "\n",
    "train_scores,valid_scores = validation_curve(pipeline,X_train_full,y_train_full,\n",
    "                                             'mir__k',range(29,34),n_jobs=-1,\n",
    "                                             error_score=0,verbose=1,cv=5,\n",
    "                                             scoring='neg_root_mean_squared_error')"
   ]
  },
  {
   "cell_type": "code",
   "execution_count": 36,
   "metadata": {},
   "outputs": [
    {
     "data": {
      "image/png": "[encoded data removed]",
      "text/plain": [
       "<Figure size 432x288 with 1 Axes>"
      ]
     },
     "metadata": {
      "needs_background": "light"
     },
     "output_type": "display_data"
    },
    {
     "data": {
      "text/plain": [
       "(32, -5.839575766299082)"
      ]
     },
     "execution_count": 36,
     "metadata": {},
     "output_type": "execute_result"
    }
   ],
   "source": [
    "plot_validation_curve(train_scores,valid_scores,range(29,34)) # 符合预期，没有元素可以删除"
   ]
  },
  {
   "cell_type": "markdown",
   "metadata": {},
   "source": [
    "# 嵌入法"
   ]
  },
  {
   "cell_type": "code",
   "execution_count": 40,
   "metadata": {},
   "outputs": [],
   "source": [
    "from sklearn.feature_selection import SelectFromModel\n",
    "\n",
    "exclude_params =  ['NMHC', 'THC', 'CH4', 'WIND_SPEED', 'SO2', 'WD_HR', 'RH', \n",
    "                  'AMB_TEMP', 'NO', 'WS_HR', 'NOx', 'RAINFALL']\n",
    "pipeline = Pipeline(steps=[('options',SelectTestOptionTransformer(exclude_params)),\n",
    "                           ('std',StandardScaler()),\n",
    "                           ('f',SelectKBest(f_regression,33)),\n",
    "                           ('mir',SelectKBest(mutual_info_regression,32)),\n",
    "                           ('sfm',SelectFromModel(LinearRegression())),\n",
    "                           ('model',LinearRegression())])\n",
    "\n",
    "train_scores,valid_scores = validation_curve(pipeline,X_train_full,y_train_full,\n",
    "                                             'sfm__threshold',np.linspace(0,0.02,10),\n",
    "                                             scoring='neg_root_mean_squared_error')"
   ]
  },
  {
   "cell_type": "code",
   "execution_count": 41,
   "metadata": {},
   "outputs": [
    {
     "data": {
      "image/png": "[encoded data removed]",
      "text/plain": [
       "<Figure size 432x288 with 1 Axes>"
      ]
     },
     "metadata": {
      "needs_background": "light"
     },
     "output_type": "display_data"
    },
    {
     "data": {
      "text/plain": [
       "(0.0, -5.838246851696371)"
      ]
     },
     "execution_count": 41,
     "metadata": {},
     "output_type": "execute_result"
    }
   ],
   "source": [
    "plot_validation_curve(train_scores,valid_scores,np.linspace(0,0.02,10))"
   ]
  },
  {
   "cell_type": "markdown",
   "metadata": {},
   "source": [
    "# 输出数据 #"
   ]
  },
  {
   "cell_type": "code",
   "execution_count": 42,
   "metadata": {},
   "outputs": [],
   "source": [
    "exclude_params = ['NMHC', 'THC', 'CH4', 'WIND_SPEED', 'SO2', 'WD_HR', 'RH', \n",
    "                  'AMB_TEMP', 'NO', 'WS_HR', 'NOx', 'RAINFALL']\n",
    "\n",
    "pipeline = Pipeline(steps=[('options',SelectTestOptionTransformer(exclude_params)),\n",
    "                           ('std',StandardScaler()),\n",
    "                           ('f',SelectKBest(f_regression,33)),\n",
    "                           ('mir',SelectKBest(mutual_info_regression,32)),\n",
    "                           ('sfm',SelectFromModel(LinearRegression(),0)),\n",
    "                           ('model',LinearRegression())])\n",
    "\n",
    "pipeline.fit(X_train_full,y_train_full)\n",
    "\n",
    "preds_test = pipeline.predict(X_test)\n",
    "ids = ['id_' + str(i) for i in range(len(X_test))]\n",
    "output = pd.DataFrame({'id':ids,\n",
    "                           'value':preds_test})\n",
    "output.to_csv('output/pm25_submission.csv',index=False)"
   ]
  },
  {
   "cell_type": "code",
   "execution_count": 43,
   "metadata": {},
   "outputs": [
    {
     "data": {
      "text/plain": [
       "124.22486191834608"
      ]
     },
     "execution_count": 43,
     "metadata": {},
     "output_type": "execute_result"
    }
   ],
   "source": [
    "preds_test.max()"
   ]
  },
  {
   "cell_type": "code",
   "execution_count": 44,
   "metadata": {},
   "outputs": [
    {
     "data": {
      "text/plain": [
       "0.8019995477010688"
      ]
     },
     "execution_count": 44,
     "metadata": {},
     "output_type": "execute_result"
    }
   ],
   "source": [
    "preds_test.min()"
   ]
  },
  {
   "cell_type": "code",
   "execution_count": 46,
   "metadata": {},
   "outputs": [
    {
     "data": {
      "text/plain": [
       "112.0"
      ]
     },
     "execution_count": 46,
     "metadata": {},
     "output_type": "execute_result"
    }
   ],
   "source": [
    "y_train_full.max()"
   ]
  },
  {
   "cell_type": "code",
   "execution_count": 47,
   "metadata": {},
   "outputs": [
    {
     "data": {
      "text/plain": [
       "-1.0"
      ]
     },
     "execution_count": 47,
     "metadata": {},
     "output_type": "execute_result"
    }
   ],
   "source": [
    "y_train_full.min()"
   ]
  },
  {
   "cell_type": "code",
   "execution_count": null,
   "metadata": {},
   "outputs": [],
   "source": []
  }
 ],
 "metadata": {
  "kernelspec": {
   "display_name": "Python 3",
   "language": "python",
   "name": "python3"
  },
  "language_info": {
   "codemirror_mode": {
    "name": "ipython",
    "version": 3
   },
   "file_extension": ".py",
   "mimetype": "text/x-python",
   "name": "python",
   "nbconvert_exporter": "python",
   "pygments_lexer": "ipython3",
   "version": "3.7.6"
  }
 },
 "nbformat": 4,
 "nbformat_minor": 4
}
