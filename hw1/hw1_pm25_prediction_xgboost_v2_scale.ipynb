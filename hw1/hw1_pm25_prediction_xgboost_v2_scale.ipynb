{
 "cells": [
  {
   "cell_type": "markdown",
   "metadata": {},
   "source": [
    "# 版本说明v2 #\n",
    "1. 使用了所有的feature\n",
    "2. 使用了XGBoost\n",
    "3. 使用了归一化"
   ]
  },
  {
   "cell_type": "markdown",
   "metadata": {},
   "source": [
    "# 读取数据 #\n",
    "训练集的大小是(4320,27)，因为前三列分别是”日期“，”测站“和”测项“，实际大小为(4320,24)。  \n",
    "其中，4320又为(12,20,18)，分别对应”月份“，”日期“和”测项“。"
   ]
  },
  {
   "cell_type": "code",
   "execution_count": 1,
   "metadata": {},
   "outputs": [],
   "source": [
    "import pandas as pd\n",
    "import numpy as np\n",
    "\n",
    "filepath_train = 'datas/train.csv' # 训练集的路径\n",
    "filepath_test = 'datas/test.csv'   # 测试集的路径\n",
    "\n",
    "data_train_orig = pd.read_csv(filepath_train,encoding='big5') # 读取训练集数据，台湾是用的big5码\n",
    "data_test_orig = pd.read_csv(filepath_test,encoding='big5',\n",
    "                          header=None,\n",
    "                          index_col=0) # 读取测试集数据，没有列表，但是有index\n",
    "\n",
    "index_pm25 = 9 # PM2.5的数据是在每日数据的第10行\n",
    "\n",
    "data_train_orig = data_train_orig.iloc[:,3:] # 去掉前三列无用数据\n",
    "data_train_orig[data_train_orig == 'NR'] = 0 # 设置雨量为NR的数据为0\n",
    "data_train_orig = data_train_orig.to_numpy()\n",
    "\n",
    "data_test_orig = data_test_orig.iloc[:,1:] # 去掉标识'测项'的第一列\n",
    "data_test_orig[data_test_orig == 'NR'] = 0\n",
    "data_test_numpy = data_test_orig.to_numpy()"
   ]
  },
  {
   "cell_type": "markdown",
   "metadata": {},
   "source": [
    "# 转化每月数据 #\n",
    "把数据(12\\*20\\*18,24)转化成(12,18,24\\*18)的数据格式，对应(月份，测项，小时*每月天数)"
   ]
  },
  {
   "cell_type": "code",
   "execution_count": 2,
   "metadata": {},
   "outputs": [],
   "source": [
    "data_train_month = np.empty([12,18,24*20])  # 定义初始值\n",
    "\n",
    "for month in range(12):\n",
    "    for day in range(20):\n",
    "        row_start = (month * 20 + day) * 18 # 起始行，每月20天，每天18个特征\n",
    "        row_end = row_start + 18            # 每天18个特征\n",
    "        data_day = data_train_orig[row_start:row_end,:]        # 获得数据切片\n",
    "        \n",
    "        col_start = day * 24                # 每天有24小时\n",
    "        col_end = col_start + 24\n",
    "        data_train_month[month,:,col_start:col_end] = data_day # 设置数据切片"
   ]
  },
  {
   "cell_type": "markdown",
   "metadata": {},
   "source": [
    "# 生成样本数据 #\n",
    "因为是预测第十天的数据，所以连续九天的数据合并成一条数据,X_train_full的维度(12\\*471,18\\*9)"
   ]
  },
  {
   "cell_type": "code",
   "execution_count": 3,
   "metadata": {},
   "outputs": [],
   "source": [
    "sample_number_month = 24 * 20 - 10 + 1                     # 计算每月的样本数\n",
    "\n",
    "X_train_full = np.empty([sample_number_month * 12,18 * 9]) # 初始化训练集X\n",
    "y_train_full = np.empty([sample_number_month * 12,1])      # 初始化训练集y\n",
    "\n",
    "for month in range(12):\n",
    "    for sample in range(sample_number_month):\n",
    "        col_start = sample           # 开始列\n",
    "        col_end   = col_start + 9    # 取9列数据\n",
    "        data_X = data_train_month[month,:,col_start:col_end].reshape(1,-1) # 变成一行数据\n",
    "        data_y = data_train_month[month,index_pm25,col_end]                # y是下一列数据\n",
    "        \n",
    "        row = month * sample_number_month + sample # 插入数据的行号\n",
    "        X_train_full[row,:] = data_X\n",
    "        y_train_full[row] = data_y\n",
    "\n",
    "test_number = data_test_numpy.shape[0] // 18\n",
    "X_test = np.empty([test_number,18 * 9])\n",
    "for sample in range(test_number):\n",
    "    row_start = sample * 18\n",
    "    row_end = row_start + 18\n",
    "    X_test[sample] = data_test_numpy[row_start:row_end,:].reshape(1,-1)"
   ]
  },
  {
   "cell_type": "markdown",
   "metadata": {},
   "source": [
    "# 拆分训练集和验证集 #"
   ]
  },
  {
   "cell_type": "code",
   "execution_count": 4,
   "metadata": {},
   "outputs": [],
   "source": [
    "from sklearn.model_selection import train_test_split\n",
    "\n",
    "X_train,X_valid,y_train,y_valid = train_test_split(X_train_full,\n",
    "                                                   y_train_full,\n",
    "                                                   test_size=0.2) # 分割验证集和验证集"
   ]
  },
  {
   "cell_type": "markdown",
   "metadata": {},
   "source": [
    "# 归一化 #"
   ]
  },
  {
   "cell_type": "code",
   "execution_count": 5,
   "metadata": {},
   "outputs": [],
   "source": [
    "from sklearn.preprocessing import StandardScaler\n",
    "\n",
    "scaler = StandardScaler()                 # 使用标准归一化\n",
    "X_train = scaler.fit_transform(X_train)\n",
    "X_valid = scaler.transform(X_valid)\n",
    "\n",
    "X_train_full = scaler.fit_transform(X_train_full)\n",
    "X_test  = scaler.transform(X_test)"
   ]
  },
  {
   "cell_type": "markdown",
   "metadata": {},
   "source": [
    "# 训练模型 #"
   ]
  },
  {
   "cell_type": "code",
   "execution_count": 6,
   "metadata": {
    "scrolled": false
   },
   "outputs": [
    {
     "name": "stdout",
     "output_type": "stream",
     "text": [
      "训练集的RMSE:3.27003\n",
      "验证集的RMSE:5.88910\n"
     ]
    }
   ],
   "source": [
    "from xgboost import XGBRegressor\n",
    "\n",
    "model = XGBRegressor(n_estimators=250,learning_rate=0.05,)\n",
    "model.fit(X_train,y_train,\n",
    "          eval_set=[(X_valid,y_valid)],\n",
    "          early_stopping_rounds=5,\n",
    "          verbose=False)\n",
    "\n",
    "from sklearn.metrics import mean_squared_error\n",
    "print(\"训练集的RMSE:{:.5f}\".format(mean_squared_error(model.predict(X_train),y_train)**0.5))\n",
    "print(\"验证集的RMSE:{:.5f}\".format(mean_squared_error(model.predict(X_valid),y_valid)**0.5))"
   ]
  },
  {
   "cell_type": "markdown",
   "metadata": {},
   "source": [
    "# 输出数据 #"
   ]
  },
  {
   "cell_type": "code",
   "execution_count": 7,
   "metadata": {},
   "outputs": [],
   "source": [
    "model.fit(X_train_full,y_train_full)\n",
    "preds_test = model.predict(X_test)\n",
    "ids = ['id_' + str(i) for i in range(len(X_test))]\n",
    "output = pd.DataFrame({'id':ids,\n",
    "                       'value':preds_test})\n",
    "output.to_csv('output/submission.csv',index=False)"
   ]
  }
 ],
 "metadata": {
  "kernelspec": {
   "display_name": "Python 3",
   "language": "python",
   "name": "python3"
  },
  "language_info": {
   "codemirror_mode": {
    "name": "ipython",
    "version": 3
   },
   "file_extension": ".py",
   "mimetype": "text/x-python",
   "name": "python",
   "nbconvert_exporter": "python",
   "pygments_lexer": "ipython3",
   "version": "3.7.6"
  }
 },
 "nbformat": 4,
 "nbformat_minor": 4
}
