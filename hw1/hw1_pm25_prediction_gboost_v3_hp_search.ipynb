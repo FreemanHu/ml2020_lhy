{
 "cells": [
  {
   "cell_type": "markdown",
   "metadata": {},
   "source": [
    "# 版本说明v3 #\n",
    "1. 使用了所有的feature\n",
    "2. 使用了GradientBostingRegressor，因为XGBoost在使用pipeline的时候，无法对eval_set也是使用\n",
    "3. 使用了归一化\n",
    "4. 使用pipeline\n",
    "5. 针对各个参数进行了调优"
   ]
  },
  {
   "cell_type": "markdown",
   "metadata": {},
   "source": [
    "# 读取数据 #\n",
    "训练集的大小是(4320,27)，因为前三列分别是”日期“，”测站“和”测项“，实际大小为(4320,24)。  \n",
    "其中，4320又为(12,20,18)，分别对应”月份“，”日期“和”测项“。"
   ]
  },
  {
   "cell_type": "code",
   "execution_count": 68,
   "metadata": {},
   "outputs": [],
   "source": [
    "import pandas as pd\n",
    "import numpy as np\n",
    "\n",
    "filepath_train = 'datas/train.csv' # 训练集的路径\n",
    "filepath_test = 'datas/test.csv'   # 测试集的路径\n",
    "\n",
    "data_train_orig = pd.read_csv(filepath_train,encoding='big5') # 读取训练集数据，台湾是用的big5码\n",
    "data_test_orig = pd.read_csv(filepath_test,encoding='big5',\n",
    "                          header=None,\n",
    "                          index_col=0) # 读取测试集数据，没有列表，但是有index\n",
    "\n",
    "index_pm25 = 9 # PM2.5的数据是在每日数据的第10行\n",
    "\n",
    "data_train_orig = data_train_orig.iloc[:,3:] # 去掉前三列无用数据\n",
    "data_train_orig[data_train_orig == 'NR'] = 0 # 设置雨量为NR的数据为0\n",
    "data_train_orig = data_train_orig.to_numpy()\n",
    "\n",
    "data_test_orig = data_test_orig.iloc[:,1:] # 去掉标识'测项'的第一列\n",
    "data_test_orig[data_test_orig == 'NR'] = 0\n",
    "data_test_numpy = data_test_orig.to_numpy()"
   ]
  },
  {
   "cell_type": "markdown",
   "metadata": {},
   "source": [
    "# 转化每月数据 #\n",
    "把数据(12\\*20\\*18,24)转化成(12,18,24\\*18)的数据格式，对应(月份，测项，小时*每月天数)"
   ]
  },
  {
   "cell_type": "code",
   "execution_count": 69,
   "metadata": {},
   "outputs": [],
   "source": [
    "data_train_month = np.empty([12,18,24*20])  # 定义初始值\n",
    "\n",
    "for month in range(12):\n",
    "    for day in range(20):\n",
    "        row_start = (month * 20 + day) * 18 # 起始行，每月20天，每天18个特征\n",
    "        row_end = row_start + 18            # 每天18个特征\n",
    "        data_day = data_train_orig[row_start:row_end,:]        # 获得数据切片\n",
    "        \n",
    "        col_start = day * 24                # 每天有24小时\n",
    "        col_end = col_start + 24\n",
    "        data_train_month[month,:,col_start:col_end] = data_day # 设置数据切片"
   ]
  },
  {
   "cell_type": "markdown",
   "metadata": {},
   "source": [
    "# 生成样本数据 #\n",
    "因为是预测第十天的数据，所以连续九天的数据合并成一条数据,X_train_full的维度(12\\*471,18\\*9)"
   ]
  },
  {
   "cell_type": "code",
   "execution_count": 71,
   "metadata": {},
   "outputs": [],
   "source": [
    "sample_number_month = 24 * 20 - 10 + 1                     # 计算每月的样本数\n",
    "\n",
    "X_train_full = np.empty([sample_number_month * 12,18 * 9]) # 初始化训练集X\n",
    "y_train_full = np.empty([sample_number_month * 12,])      # 初始化训练集y\n",
    "\n",
    "for month in range(12):\n",
    "    for sample in range(sample_number_month):\n",
    "        col_start = sample           # 开始列\n",
    "        col_end   = col_start + 9    # 取9列数据\n",
    "        data_X = data_train_month[month,:,col_start:col_end].reshape(1,-1) # 变成一行数据\n",
    "        data_y = data_train_month[month,index_pm25,col_end]                # y是下一列数据\n",
    "        \n",
    "        row = month * sample_number_month + sample # 插入数据的行号\n",
    "        X_train_full[row,:] = data_X\n",
    "        y_train_full[row] = data_y\n",
    "\n",
    "test_number = data_test_numpy.shape[0] // 18\n",
    "X_test = np.empty([test_number,18 * 9])\n",
    "for sample in range(test_number):\n",
    "    row_start = sample * 18\n",
    "    row_end = row_start + 18\n",
    "    X_test[sample] = data_test_numpy[row_start:row_end,:].reshape(1,-1)"
   ]
  },
  {
   "cell_type": "markdown",
   "metadata": {},
   "source": [
    "# 拆分训练集和验证集 #"
   ]
  },
  {
   "cell_type": "code",
   "execution_count": 72,
   "metadata": {},
   "outputs": [],
   "source": [
    "from sklearn.model_selection import train_test_split\n",
    "\n",
    "X_train,X_valid,y_train,y_valid = train_test_split(X_train_full,\n",
    "                                                   y_train_full,\n",
    "                                                   test_size=0.2) # 分割验证集和验证集\n",
    "n_features = X_train.shape[1]"
   ]
  },
  {
   "cell_type": "markdown",
   "metadata": {},
   "source": [
    "# 使用pipeline #"
   ]
  },
  {
   "cell_type": "code",
   "execution_count": 107,
   "metadata": {},
   "outputs": [
    {
     "name": "stdout",
     "output_type": "stream",
     "text": [
      "训练集的RMSE:5.47581\n",
      "验证集的RMSE:6.33218\n",
      "验证集的score:0.84931\n"
     ]
    }
   ],
   "source": [
    "from sklearn.preprocessing import StandardScaler\n",
    "from sklearn.pipeline import Pipeline\n",
    "from sklearn.ensemble import GradientBoostingRegressor\n",
    "from xgboost import XGBRegressor\n",
    "\n",
    "model = GradientBoostingRegressor(random_state=0,\n",
    "#                                   verbose=1,\n",
    "                                  n_iter_no_change=5)\n",
    "\n",
    "pipeline = Pipeline(steps=[('scaler', StandardScaler()),\n",
    "                           ('model' , model)])\n",
    "\n",
    "pipeline.fit(X_train,y_train)\n",
    "\n",
    "train_rmse = mean_squared_error(pipeline.predict(X_train),y_train)**0.5\n",
    "valid_rmse = mean_squared_error(pipeline.predict(X_valid),y_valid)**0.5\n",
    "print(\"训练集的RMSE:{:.5f}\".format(train_rmse))\n",
    "print(\"验证集的RMSE:{:.5f}\".format(valid_rmse))\n",
    "print(\"验证集的score:{:.5f}\".format(pipeline.score(X_valid,y_valid)))"
   ]
  },
  {
   "cell_type": "markdown",
   "metadata": {},
   "source": [
    "# 定义超参搜索的工具 #"
   ]
  },
  {
   "cell_type": "markdown",
   "metadata": {},
   "source": [
    "## 定义画学习曲线函数 ##"
   ]
  },
  {
   "cell_type": "code",
   "execution_count": 74,
   "metadata": {},
   "outputs": [],
   "source": [
    "import matplotlib.pyplot as plt\n",
    "\n",
    "def plot_validation_curve(train_scores,valid_scores,param_range,ylim=(0.7,1)):\n",
    "    plt.plot(param_range,train_scores.mean(axis=1),label='train scores') # 画训练集的分数\n",
    "    \n",
    "    valid_mean = valid_scores.mean(axis=1)\n",
    "    plt.plot(param_range,valid_mean,label='valid scores')                # 画验证集的分数\n",
    "\n",
    "    valid_max = valid_mean.max()                           # 验证集中的最大分数\n",
    "    valid_argmax = param_range[valid_mean.argmax()]        # 验证集最大分数对应的参数取值\n",
    "    plt.plot(valid_argmax,valid_max,'x',)                  # 画出最大参数的位置\n",
    "    plt.text(valid_argmax,valid_max + 0.01,\n",
    "             '({},{:.4f})'.format(valid_argmax,valid_max)) # 画出最大参数的坐标值\n",
    "\n",
    "    plt.legend()\n",
    "    plt.ylim(ylim)\n",
    "    plt.show()\n",
    "    \n",
    "    return valid_argmax,valid_max # 返回最大得分和对应的参数值"
   ]
  },
  {
   "cell_type": "markdown",
   "metadata": {},
   "source": [
    "## 定义搜索函数 ##"
   ]
  },
  {
   "cell_type": "code",
   "execution_count": 97,
   "metadata": {},
   "outputs": [],
   "source": [
    "from sklearn.model_selection import validation_curve\n",
    "\n",
    "def search(param,param_range,ylim=(0.7,1)):\n",
    "    train_scores,valid_scores = validation_curve(pipeline,\n",
    "                                                 X_train,\n",
    "                                                 y_train,\n",
    "                                                 param,\n",
    "                                                 param_range,\n",
    "                                                 verbose=1,\n",
    "                                                 n_jobs=4,\n",
    "                                                 error_score=0)\n",
    "    param_max,score_max = plot_validation_curve(train_scores,valid_scores,param_range)\n",
    "    return (param_max,score_max,train_scores,valid_scores)"
   ]
  },
  {
   "cell_type": "markdown",
   "metadata": {},
   "source": [
    "## 定义方格搜索函数 ##"
   ]
  },
  {
   "cell_type": "code",
   "execution_count": 76,
   "metadata": {},
   "outputs": [],
   "source": [
    "from sklearn.model_selection import GridSearchCV\n",
    "\n",
    "def grid_search(gridparam):\n",
    "    grid_search = GridSearchCV(pipeline,gridparam,verbose=1,n_jobs=4)\n",
    "\n",
    "    history = grid_search.fit(X_train,y_train)\n",
    "\n",
    "    print(history.best_params_)\n",
    "    print(history.best_score_)\n",
    "    \n",
    "    return history"
   ]
  },
  {
   "cell_type": "markdown",
   "metadata": {},
   "source": [
    "# 超参搜索 #"
   ]
  },
  {
   "cell_type": "code",
   "execution_count": 32,
   "metadata": {},
   "outputs": [
    {
     "data": {
      "text/plain": [
       "0.8550755926315773"
      ]
     },
     "execution_count": 32,
     "metadata": {},
     "output_type": "execute_result"
    }
   ],
   "source": [
    "from sklearn.model_selection import cross_val_score\n",
    "\n",
    "cross_val_score(pipeline,X_train,y_train).mean() # 打印无调参时的score值"
   ]
  },
  {
   "cell_type": "markdown",
   "metadata": {},
   "source": [
    "## n_estimators参数调试 ##\n",
    "**总结**\n",
    "* 调整n_estimators后，score的提升只有0.0001\n",
    "* 选择的值为115，score值为0.8552"
   ]
  },
  {
   "cell_type": "code",
   "execution_count": 100,
   "metadata": {},
   "outputs": [
    {
     "name": "stderr",
     "output_type": "stream",
     "text": [
      "[Parallel(n_jobs=4)]: Using backend LokyBackend with 4 concurrent workers.\n",
      "[Parallel(n_jobs=4)]: Done  25 out of  25 | elapsed:   32.7s finished\n"
     ]
    },
    {
     "data": {
      "image/png": "[encoded data removed]",
      "text/plain": [
       "<Figure size 432x288 with 1 Axes>"
      ]
     },
     "metadata": {
      "needs_background": "light"
     },
     "output_type": "display_data"
    }
   ],
   "source": [
    "history = search('model__n_estimators',range(1,202,50))"
   ]
  },
  {
   "cell_type": "code",
   "execution_count": 27,
   "metadata": {},
   "outputs": [
    {
     "name": "stderr",
     "output_type": "stream",
     "text": [
      "[Parallel(n_jobs=4)]: Using backend LokyBackend with 4 concurrent workers.\n",
      "[Parallel(n_jobs=4)]: Done  50 out of  50 | elapsed:  2.0min finished\n"
     ]
    },
    {
     "data": {
      "image/png": "[encoded data removed]",
      "text/plain": [
       "<Figure size 432x288 with 1 Axes>"
      ]
     },
     "metadata": {
      "needs_background": "light"
     },
     "output_type": "display_data"
    }
   ],
   "source": [
    "history = search('model__n_estimators',range(100,200,10))"
   ]
  },
  {
   "cell_type": "code",
   "execution_count": 41,
   "metadata": {},
   "outputs": [
    {
     "name": "stdout",
     "output_type": "stream",
     "text": [
      "Fitting 5 folds for each of 10 candidates, totalling 50 fits\n"
     ]
    },
    {
     "name": "stderr",
     "output_type": "stream",
     "text": [
      "[Parallel(n_jobs=1)]: Using backend SequentialBackend with 1 concurrent workers.\n",
      "[Parallel(n_jobs=1)]: Done  50 out of  50 | elapsed:  4.0min finished\n"
     ]
    },
    {
     "name": "stdout",
     "output_type": "stream",
     "text": [
      "{'model__n_estimators': 115}\n",
      "0.8552361113178757\n"
     ]
    }
   ],
   "source": [
    "history = grid_search({'model__n_estimators':range(115,125)})"
   ]
  },
  {
   "cell_type": "markdown",
   "metadata": {},
   "source": [
    "## max_depth参数调试 ##\n",
    "**总结**\n",
    "1. max_depth越大，树越复杂，越容易overfitting，我现在面临的是overfitting，所以不需要试那么大的范围，从小开始就行了。\n",
    "2. 最终发现4是最佳值，score为0.8565，提升0.013\n",
    "3. 只是单个参数值时，validation_curve和grid_search的搜索结果一样，所以，用curve的效果更佳直观"
   ]
  },
  {
   "cell_type": "code",
   "execution_count": 38,
   "metadata": {},
   "outputs": [
    {
     "name": "stderr",
     "output_type": "stream",
     "text": [
      "[Parallel(n_jobs=4)]: Using backend LokyBackend with 4 concurrent workers.\n",
      "[Parallel(n_jobs=4)]: Done  35 out of  35 | elapsed:  2.0min finished\n"
     ]
    },
    {
     "data": {
      "image/png": "[encoded data removed]",
      "text/plain": [
       "<Figure size 432x288 with 1 Axes>"
      ]
     },
     "metadata": {
      "needs_background": "light"
     },
     "output_type": "display_data"
    }
   ],
   "source": [
    "model.n_estimators = 115\n",
    "history = search('model__max_depth',range(1,32,5))"
   ]
  },
  {
   "cell_type": "code",
   "execution_count": 39,
   "metadata": {},
   "outputs": [
    {
     "name": "stderr",
     "output_type": "stream",
     "text": [
      "[Parallel(n_jobs=4)]: Using backend LokyBackend with 4 concurrent workers.\n",
      "[Parallel(n_jobs=4)]: Done  50 out of  50 | elapsed:  2.6min finished\n"
     ]
    },
    {
     "data": {
      "image/png": "[encoded data removed]",
      "text/plain": [
       "<Figure size 432x288 with 1 Axes>"
      ]
     },
     "metadata": {
      "needs_background": "light"
     },
     "output_type": "display_data"
    }
   ],
   "source": [
    "model.n_estimators = 115\n",
    "history = search('model__max_depth',range(1,11))"
   ]
  },
  {
   "cell_type": "code",
   "execution_count": 44,
   "metadata": {},
   "outputs": [
    {
     "name": "stdout",
     "output_type": "stream",
     "text": [
      "Fitting 5 folds for each of 10 candidates, totalling 50 fits\n"
     ]
    },
    {
     "name": "stderr",
     "output_type": "stream",
     "text": [
      "[Parallel(n_jobs=4)]: Using backend LokyBackend with 4 concurrent workers.\n",
      "[Parallel(n_jobs=4)]: Done  42 tasks      | elapsed:  2.2min\n",
      "[Parallel(n_jobs=4)]: Done  50 out of  50 | elapsed:  2.9min finished\n"
     ]
    },
    {
     "name": "stdout",
     "output_type": "stream",
     "text": [
      "{'model__max_depth': 4}\n",
      "0.8565162936905606\n"
     ]
    }
   ],
   "source": [
    "model.n_estimators = 115\n",
    "history = grid_search({'model__max_depth':range(1,11)})"
   ]
  },
  {
   "cell_type": "markdown",
   "metadata": {},
   "source": [
    "## 网格搜索n_estimators和max_depth两个参数 ##\n",
    "**总结**\n",
    "1. 搜索结果和把两个参数分开搜索的结果一致，可见两个参数不会互相影响\n",
    "2. 还降了5课树，因为用了early stoping，所以差不多"
   ]
  },
  {
   "cell_type": "code",
   "execution_count": 48,
   "metadata": {},
   "outputs": [
    {
     "name": "stdout",
     "output_type": "stream",
     "text": [
      "Fitting 5 folds for each of 30 candidates, totalling 150 fits\n"
     ]
    },
    {
     "name": "stderr",
     "output_type": "stream",
     "text": [
      "[Parallel(n_jobs=4)]: Using backend LokyBackend with 4 concurrent workers.\n",
      "[Parallel(n_jobs=4)]: Done  42 tasks      | elapsed:  1.6min\n",
      "[Parallel(n_jobs=4)]: Done 150 out of 150 | elapsed:  6.0min finished\n"
     ]
    },
    {
     "name": "stdout",
     "output_type": "stream",
     "text": [
      "{'model__max_depth': 4, 'model__n_estimators': 110}\n",
      "0.8565162936905606\n"
     ]
    }
   ],
   "source": [
    "params = {'model__n_estimators' : range(110,120),\n",
    "          'model__max_depth' : range(3,6)}\n",
    "history = grid_search(params)"
   ]
  },
  {
   "cell_type": "markdown",
   "metadata": {},
   "source": [
    "## min_samples_leaf参数调优 ##\n",
    "**总结**  \n",
    "1.variance是降了，但是bias提升了，导致实际数据还是1最好"
   ]
  },
  {
   "cell_type": "code",
   "execution_count": 50,
   "metadata": {},
   "outputs": [
    {
     "name": "stderr",
     "output_type": "stream",
     "text": [
      "[Parallel(n_jobs=4)]: Using backend LokyBackend with 4 concurrent workers.\n",
      "[Parallel(n_jobs=4)]: Done  50 out of  50 | elapsed:  2.3min finished\n"
     ]
    },
    {
     "data": {
      "image/png": "[encoded data removed]",
      "text/plain": [
       "<Figure size 432x288 with 1 Axes>"
      ]
     },
     "metadata": {
      "needs_background": "light"
     },
     "output_type": "display_data"
    }
   ],
   "source": [
    "model.n_estimators = 110\n",
    "model.max_depth = 4\n",
    "history = search('model__min_samples_leaf',range(1,50,5))"
   ]
  },
  {
   "cell_type": "code",
   "execution_count": 52,
   "metadata": {},
   "outputs": [
    {
     "name": "stderr",
     "output_type": "stream",
     "text": [
      "[Parallel(n_jobs=4)]: Using backend LokyBackend with 4 concurrent workers.\n",
      "[Parallel(n_jobs=4)]: Done  45 out of  45 | elapsed:  1.6min finished\n"
     ]
    },
    {
     "data": {
      "image/png": "[encoded data removed]",
      "text/plain": [
       "<Figure size 432x288 with 1 Axes>"
      ]
     },
     "metadata": {
      "needs_background": "light"
     },
     "output_type": "display_data"
    }
   ],
   "source": [
    "model.n_estimators = 110\n",
    "model.max_depth = 4\n",
    "history = search('model__min_samples_leaf',range(1,10))"
   ]
  },
  {
   "cell_type": "markdown",
   "metadata": {},
   "source": [
    "## min_samples_split参数调优 ##\n",
    "1. 没有调优空间"
   ]
  },
  {
   "cell_type": "code",
   "execution_count": 53,
   "metadata": {},
   "outputs": [
    {
     "name": "stderr",
     "output_type": "stream",
     "text": [
      "[Parallel(n_jobs=4)]: Using backend LokyBackend with 4 concurrent workers.\n",
      "[Parallel(n_jobs=4)]: Done  40 out of  40 | elapsed:  1.5min finished\n"
     ]
    },
    {
     "data": {
      "image/png": "[encoded data removed]",
      "text/plain": [
       "<Figure size 432x288 with 1 Axes>"
      ]
     },
     "metadata": {
      "needs_background": "light"
     },
     "output_type": "display_data"
    }
   ],
   "source": [
    "model.n_estimators = 110\n",
    "model.max_depth = 4\n",
    "history = search('model__min_samples_split',range(2,10))"
   ]
  },
  {
   "cell_type": "markdown",
   "metadata": {},
   "source": [
    "## max_features参数调优 ##\n",
    "**总结**\n",
    "1. 有提升"
   ]
  },
  {
   "cell_type": "code",
   "execution_count": 78,
   "metadata": {},
   "outputs": [
    {
     "name": "stderr",
     "output_type": "stream",
     "text": [
      "[Parallel(n_jobs=4)]: Using backend LokyBackend with 4 concurrent workers.\n",
      "[Parallel(n_jobs=4)]: Done  50 out of  50 | elapsed:   56.9s finished\n"
     ]
    },
    {
     "data": {
      "image/png": "[encoded data removed]",
      "text/plain": [
       "<Figure size 432x288 with 1 Axes>"
      ]
     },
     "metadata": {
      "needs_background": "light"
     },
     "output_type": "display_data"
    }
   ],
   "source": [
    "model.n_estimators = 110\n",
    "model.max_depth = 4\n",
    "param_range = np.linspace(n_features**0.5,n_features,10).astype(int)\n",
    "history = search('model__max_features',param_range)"
   ]
  },
  {
   "cell_type": "code",
   "execution_count": 79,
   "metadata": {},
   "outputs": [
    {
     "name": "stderr",
     "output_type": "stream",
     "text": [
      "[Parallel(n_jobs=4)]: Using backend LokyBackend with 4 concurrent workers.\n",
      "[Parallel(n_jobs=4)]: Done  40 out of  40 | elapsed:  1.4min finished\n"
     ]
    },
    {
     "data": {
      "image/png": "[encoded data removed]",
      "text/plain": [
       "<Figure size 432x288 with 1 Axes>"
      ]
     },
     "metadata": {
      "needs_background": "light"
     },
     "output_type": "display_data"
    }
   ],
   "source": [
    "model.n_estimators = 110\n",
    "model.max_depth = 4\n",
    "history = search('model__max_features',range(155,163))"
   ]
  },
  {
   "cell_type": "markdown",
   "metadata": {},
   "source": [
    "## 再调一下min_samples_leaf ##"
   ]
  },
  {
   "cell_type": "code",
   "execution_count": 81,
   "metadata": {},
   "outputs": [
    {
     "name": "stderr",
     "output_type": "stream",
     "text": [
      "[Parallel(n_jobs=4)]: Using backend LokyBackend with 4 concurrent workers.\n",
      "[Parallel(n_jobs=4)]: Done  45 out of  45 | elapsed:  1.8min finished\n"
     ]
    },
    {
     "data": {
      "image/png": "[encoded data removed]",
      "text/plain": [
       "<Figure size 432x288 with 1 Axes>"
      ]
     },
     "metadata": {
      "needs_background": "light"
     },
     "output_type": "display_data"
    }
   ],
   "source": [
    "model.n_estimators = 110\n",
    "model.max_depth = 4\n",
    "model.max_features = 159\n",
    "history = search('model__min_samples_leaf',range(1,10))"
   ]
  },
  {
   "cell_type": "markdown",
   "metadata": {},
   "source": [
    "## 再调一下min_samples_split ##"
   ]
  },
  {
   "cell_type": "code",
   "execution_count": 106,
   "metadata": {},
   "outputs": [
    {
     "name": "stderr",
     "output_type": "stream",
     "text": [
      "[Parallel(n_jobs=4)]: Using backend LokyBackend with 4 concurrent workers.\n",
      "[Parallel(n_jobs=4)]: Done  40 out of  40 | elapsed:  1.3min finished\n"
     ]
    },
    {
     "data": {
      "image/png": "[encoded data removed]",
      "text/plain": [
       "<Figure size 432x288 with 1 Axes>"
      ]
     },
     "metadata": {
      "needs_background": "light"
     },
     "output_type": "display_data"
    }
   ],
   "source": [
    "model.n_estimators = 110\n",
    "model.max_depth = 4\n",
    "model.max_features = 159\n",
    "model.min_samples_leaf = 4\n",
    "history = search('model__min_samples_split',range(2,10))"
   ]
  },
  {
   "cell_type": "markdown",
   "metadata": {},
   "source": [
    "# 训练模型 #"
   ]
  },
  {
   "cell_type": "code",
   "execution_count": 108,
   "metadata": {
    "scrolled": false
   },
   "outputs": [
    {
     "name": "stdout",
     "output_type": "stream",
     "text": [
      "训练集的RMSE:4.78090\n",
      "验证集的RMSE:6.24690\n",
      "验证集的score:0.85334\n"
     ]
    }
   ],
   "source": [
    "from sklearn.metrics import mean_squared_error\n",
    "\n",
    "model.n_estimators = 110\n",
    "model.max_depth = 4\n",
    "model.max_features = 159\n",
    "model.min_samples_leaf = 4\n",
    "model.min_samples_split = 2\n",
    "\n",
    "pipeline.fit(X_train,y_train)\n",
    "\n",
    "train_rmse = mean_squared_error(pipeline.predict(X_train),y_train)**0.5\n",
    "valid_rmse = mean_squared_error(pipeline.predict(X_valid),y_valid)**0.5\n",
    "print(\"训练集的RMSE:{:.5f}\".format(train_rmse))\n",
    "print(\"验证集的RMSE:{:.5f}\".format(valid_rmse))\n",
    "print(\"验证集的score:{:.5f}\".format(pipeline.score(X_valid,y_valid)))"
   ]
  },
  {
   "cell_type": "markdown",
   "metadata": {},
   "source": [
    "# 输出数据 #"
   ]
  },
  {
   "cell_type": "code",
   "execution_count": 109,
   "metadata": {},
   "outputs": [
    {
     "name": "stdout",
     "output_type": "stream",
     "text": [
      "训练集的RMSE:4.83707\n"
     ]
    }
   ],
   "source": [
    "pipeline.fit(X_train_full,y_train_full)\n",
    "\n",
    "preds_train_full = pipeline.predict(X_train_full)\n",
    "print('训练集的RMSE:{:.5f}'.format(mean_squared_error(preds_train_full,y_train_full)**0.5))\n",
    "\n",
    "preds_test = pipeline.predict(X_test)\n",
    "ids = ['id_' + str(i) for i in range(len(X_test))]\n",
    "output = pd.DataFrame({'id':ids,\n",
    "                       'value':preds_test})\n",
    "output.to_csv('output/submission.csv',index=False)"
   ]
  },
  {
   "cell_type": "code",
   "execution_count": null,
   "metadata": {},
   "outputs": [],
   "source": []
  }
 ],
 "metadata": {
  "kernelspec": {
   "display_name": "Python 3",
   "language": "python",
   "name": "python3"
  },
  "language_info": {
   "codemirror_mode": {
    "name": "ipython",
    "version": 3
   },
   "file_extension": ".py",
   "mimetype": "text/x-python",
   "name": "python",
   "nbconvert_exporter": "python",
   "pygments_lexer": "ipython3",
   "version": "3.7.6"
  }
 },
 "nbformat": 4,
 "nbformat_minor": 4
}
