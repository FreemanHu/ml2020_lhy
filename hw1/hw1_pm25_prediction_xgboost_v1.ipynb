{
 "cells": [
  {
   "cell_type": "markdown",
   "metadata": {},
   "source": [
    "# 1. 读取数据 #"
   ]
  },
  {
   "cell_type": "code",
   "execution_count": 1,
   "metadata": {},
   "outputs": [],
   "source": [
    "import pandas as pd\n",
    "\n",
    "filepath_train = 'datas/train.csv' # 训练集的路径\n",
    "filepath_test = 'datas/test.csv' # 测试集的路径\n",
    "\n",
    "X_full_train = pd.read_csv(filepath_train,encoding='big5') # 读取训练集数据，台湾是用的big5码\n",
    "X_full_test = pd.read_csv(filepath_test,encoding='big5',\n",
    "                          header=None,\n",
    "                          index_col=0) # 读取测试集数据，没有列表，但是有index"
   ]
  },
  {
   "cell_type": "markdown",
   "metadata": {},
   "source": [
    "# 2. 数据清洗 #"
   ]
  },
  {
   "cell_type": "code",
   "execution_count": 2,
   "metadata": {},
   "outputs": [],
   "source": [
    "X_train_pm = X_full_train[X_full_train['測項']=='PM2.5'].copy() # 只保留PM2.5的部分\n",
    "X_train_pm.reset_index(drop=True,inplace=True)\n",
    "X_train_pm.drop(columns=['日期','測站','測項'],axis=1,inplace=True) # 删除不需要的列\n",
    " \n",
    "X_train_all = X_train_pm[X_train_pm.columns[0:10]].copy() # 取前十列生成新的训练集\n",
    "for i in range(1,15):\n",
    "    X_tmp = pd.DataFrame(X_train_pm[X_train_pm.columns[i:10+i]]).copy() # 取连续10列\n",
    "    columns_new = {col_old:col_new for col_old,col_new \n",
    "                                   in zip(X_tmp.columns,X_train_pm.columns)} # 列表改成和训练集一致\n",
    "    X_tmp.rename(columns=columns_new,inplace=True) # 修改列名\n",
    "    X_train_all = X_train_all.append(X_tmp,ignore_index=True) # 把数据添加到训练集后面\n",
    "X_train_all = X_train_all.astype(float) # 数据类型都设置为float\n",
    "    \n",
    "X_test_pm = X_full_test[X_full_test[1]=='PM2.5'].copy() # 测试集只保留PM2.5的部分\n",
    "X_test = X_test_pm.drop(columns=[1],axis=1) # 删除不需要的列\n",
    "X_test = X_test.astype(float) # 数据类型都设置为float\n",
    "columns_new = {col_old:col_new for col_old,col_new\n",
    "                               in zip(X_test,X_train_all)}\n",
    "X_test.rename(columns=columns_new,inplace=True) #列名改为和训练集一致\n",
    "\n",
    "from sklearn.model_selection import train_test_split\n",
    "\n",
    "y_train_all = X_train_all['9'] # y是最后一列\n",
    "X_train_all.drop(columns='9',axis=1,inplace=True) # 把y列从训练集中删除\n",
    "\n",
    "X_train,X_valid,y_train,y_valid = train_test_split(X_train_all,\n",
    "                                                   y_train_all,\n",
    "                                                   test_size=0.2) # 分割验证集和验证集"
   ]
  },
  {
   "cell_type": "markdown",
   "metadata": {},
   "source": [
    "# 3. 训练模型 #"
   ]
  },
  {
   "cell_type": "code",
   "execution_count": 3,
   "metadata": {},
   "outputs": [
    {
     "name": "stdout",
     "output_type": "stream",
     "text": [
      "训练集的RMSE:4.90738\n",
      "验证集的RMSE:6.79184\n"
     ]
    }
   ],
   "source": [
    "from xgboost import XGBRegressor\n",
    "model = XGBRegressor()\n",
    "model.fit(X_train,y_train,\n",
    "          eval_set=[(X_valid,y_valid)],\n",
    "          early_stopping_rounds=5,\n",
    "          verbose=False)\n",
    "\n",
    "from sklearn.metrics import mean_squared_error\n",
    "print(\"训练集的RMSE:{:.5f}\".format(mean_squared_error(model.predict(X_train),y_train)**0.5))\n",
    "print(\"验证集的RMSE:{:.5f}\".format(mean_squared_error(model.predict(X_valid),y_valid)**0.5))"
   ]
  },
  {
   "cell_type": "markdown",
   "metadata": {},
   "source": [
    "# 4. 输出数据 #"
   ]
  },
  {
   "cell_type": "code",
   "execution_count": 4,
   "metadata": {},
   "outputs": [],
   "source": [
    "preds_test = model.predict(X_test)\n",
    "# output = pd.DataFrame({'value':preds_test} ,index=X_test.index)\n",
    "output = pd.DataFrame({'id':X_test.index,\n",
    "                       'value':preds_test})\n",
    "output.to_csv('output/submission.csv',index=False)"
   ]
  }
 ],
 "metadata": {
  "kernelspec": {
   "display_name": "Python 3",
   "language": "python",
   "name": "python3"
  },
  "language_info": {
   "codemirror_mode": {
    "name": "ipython",
    "version": 3
   },
   "file_extension": ".py",
   "mimetype": "text/x-python",
   "name": "python",
   "nbconvert_exporter": "python",
   "pygments_lexer": "ipython3",
   "version": "3.7.6"
  }
 },
 "nbformat": 4,
 "nbformat_minor": 4
}
