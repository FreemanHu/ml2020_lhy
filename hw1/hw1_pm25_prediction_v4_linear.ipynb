{
 "cells": [
  {
   "cell_type": "markdown",
   "metadata": {},
   "source": [
    "# 版本说明v4 #\n",
    "1. 使用LinearRegressor\n",
    "2. 使用pipeline\n",
    "3. 添加自定义的Transformer，可以选择指定的成分\n",
    "4. 针对各个参数进行了调优\n",
    "5. 封装了工具方法"
   ]
  },
  {
   "cell_type": "markdown",
   "metadata": {},
   "source": [
    "# 拆分训练集和验证集 #"
   ]
  },
  {
   "cell_type": "code",
   "execution_count": 78,
   "metadata": {},
   "outputs": [
    {
     "name": "stdout",
     "output_type": "stream",
     "text": [
      "The autoreload extension is already loaded. To reload it, use:\n",
      "  %reload_ext autoreload\n"
     ]
    }
   ],
   "source": [
    "from hw1_utils import *\n",
    "from sklearn.model_selection import train_test_split\n",
    "%load_ext autoreload\n",
    "%autoreload 2\n",
    "\n",
    "X_train_full,y_train_full,X_test,test_option_index,test_options = load_data() # 加载训练和测试数据\n",
    "\n",
    "X_train,X_valid,y_train,y_valid = train_test_split(X_train_full,\n",
    "                                                   y_train_full,\n",
    "                                                   test_size=0.2) # 分割验证集和验证集\n",
    "n_features = X_train.shape[1]"
   ]
  },
  {
   "cell_type": "markdown",
   "metadata": {},
   "source": [
    "# 建立pipeline #"
   ]
  },
  {
   "cell_type": "code",
   "execution_count": 235,
   "metadata": {},
   "outputs": [],
   "source": [
    "from sklearn.preprocessing import StandardScaler\n",
    "from sklearn.pipeline import Pipeline\n",
    "from sklearn.linear_model import LinearRegression\n",
    "from sklearn.metrics import mean_squared_error\n",
    "\n",
    "options = SelectTestOptionTransformer(test_option_index) # 选择测项特征的转化器\n",
    "model = None\n",
    "pipeline = Pipeline(steps=[('options',options),\n",
    "                           ('scaler', StandardScaler()),\n",
    "                           ('model' , model)])\n",
    "\n",
    "search_utils = SearchUtils(pipeline,X_train_full,y_train_full)"
   ]
  },
  {
   "cell_type": "markdown",
   "metadata": {},
   "source": [
    "## 使用LinearRegression模型 ##"
   ]
  },
  {
   "cell_type": "code",
   "execution_count": 236,
   "metadata": {},
   "outputs": [
    {
     "data": {
      "text/plain": [
       "0.8443606921920231"
      ]
     },
     "execution_count": 236,
     "metadata": {},
     "output_type": "execute_result"
    }
   ],
   "source": [
    "from sklearn.model_selection import cross_val_score\n",
    "\n",
    "pipeline.steps[2] = ('model',LinearRegression())\n",
    "\n",
    "cross_val_score(pipeline,X_train_full,y_train_full).mean()"
   ]
  },
  {
   "cell_type": "markdown",
   "metadata": {},
   "source": [
    "# 剔除无关Feature #\n",
    "1. 将所有feature放进去，计算cv_score，记录为best score\n",
    "2. 然后分别减掉一个feature，选出最高的cv_score，如果，如果比best_score，那么去掉这个feature\n",
    "3. 然后重复上面的操作，直到最高的score不再比best_score高为止。"
   ]
  },
  {
   "cell_type": "code",
   "execution_count": 237,
   "metadata": {},
   "outputs": [
    {
     "name": "stdout",
     "output_type": "stream",
     "text": [
      "剔除RH后，训练集得分为0.8826，验证集得分为0.8459\n",
      "剔除THC后，训练集得分为0.8824，验证集得分为0.8466\n",
      "剔除NMHC后，训练集得分为0.8822，验证集得分为0.8472\n",
      "剔除AMB_TEMP后，训练集得分为0.8818，验证集得分为0.8479\n",
      "剔除WIND_DIREC后，训练集得分为0.8815，验证集得分为0.8483\n",
      "剔除NO2后，训练集得分为0.8812，验证集得分为0.8487\n",
      "剔除WS_HR后，训练集得分为0.8810，验证集得分为0.8489\n",
      "剔除WIND_SPEED后，训练集得分为0.8807，验证集得分为0.8492\n",
      "剔除WD_HR后，训练集得分为0.8804，验证集得分为0.8494\n",
      "剔除RAINFALL后，训练集得分为0.8801，验证集得分为0.8495\n",
      "剔除CH4后，训练集得分为0.8795，验证集得分为0.8495\n",
      "剔除完成。\n"
     ]
    }
   ],
   "source": [
    "pipeline.steps[2] = ('model',LinearRegression())\n",
    "options.exclude = []\n",
    "\n",
    "train_best_scores = []\n",
    "valid_best_scores = []\n",
    "exclude_params = []\n",
    "best_score = 0\n",
    "flag = True\n",
    "while flag:\n",
    "    param_range = [exclude_params + [test_options[i]] for i in range(18)]\n",
    "    \n",
    "    train_scores,valid_scores = validation_curve(pipeline,X_train_full,y_train_full,\n",
    "                                                 'options__exclude',param_range)\n",
    "    \n",
    "    valid_score = valid_scores.mean(axis=1)              # 取验证集每个feature的平均分\n",
    "    valid_max = valid_score.max()                        # 取出最高分\n",
    "    valid_argmax = valid_score.argmax()                  # 最高分对应的feature值\n",
    "    train_max = train_scores.mean(axis=1)[valid_argmax]  # 该feature在训练集的分数作为训练集最高分\n",
    "    \n",
    "    if valid_max > best_score:\n",
    "        train_best_scores.append(train_max)\n",
    "        valid_best_scores.append(valid_max)\n",
    "        best_score = valid_max\n",
    "        if len(valid_score) > 1:\n",
    "            test_option_killed = test_options[valid_argmax]\n",
    "            exclude_params.append(test_option_killed)\n",
    "        print('剔除{}后，训练集得分为{:.4f}，验证集得分为{:.4f}'.format(\n",
    "            test_option_killed,train_max,valid_max))\n",
    "            \n",
    "    else:\n",
    "        print('剔除完成。')\n",
    "        flag = False"
   ]
  },
  {
   "cell_type": "code",
   "execution_count": 167,
   "metadata": {},
   "outputs": [
    {
     "data": {
      "text/plain": [
       "['RH',\n",
       " 'THC',\n",
       " 'NMHC',\n",
       " 'AMB_TEMP',\n",
       " 'WIND_DIREC',\n",
       " 'NO2',\n",
       " 'WS_HR',\n",
       " 'WIND_SPEED',\n",
       " 'WD_HR',\n",
       " 'RAINFALL',\n",
       " 'CH4']"
      ]
     },
     "execution_count": 167,
     "metadata": {},
     "output_type": "execute_result"
    }
   ],
   "source": [
    "exclude_params "
   ]
  },
  {
   "cell_type": "code",
   "execution_count": 170,
   "metadata": {},
   "outputs": [
    {
     "data": {
      "text/plain": [
       "[0.8458928052416193,\n",
       " 0.8465658857667734,\n",
       " 0.8472180038136082,\n",
       " 0.8478696241065699,\n",
       " 0.8483088469965182,\n",
       " 0.8486776551720734,\n",
       " 0.8489273441770215,\n",
       " 0.8491832160605401,\n",
       " 0.849413436958576,\n",
       " 0.8494950728665771,\n",
       " 0.8495024139932805]"
      ]
     },
     "execution_count": 170,
     "metadata": {},
     "output_type": "execute_result"
    }
   ],
   "source": [
    "valid_best_scores"
   ]
  },
  {
   "cell_type": "code",
   "execution_count": 175,
   "metadata": {},
   "outputs": [
    {
     "data": {
      "text/plain": [
       "[0.8825598602446174,\n",
       " 0.8823771158273139,\n",
       " 0.8821632742422434,\n",
       " 0.8818185465025833,\n",
       " 0.8815265470784478,\n",
       " 0.8811858669055083,\n",
       " 0.880950170396131,\n",
       " 0.8806664794354901,\n",
       " 0.8804019823989597,\n",
       " 0.8800917772013973,\n",
       " 0.8795468026598325]"
      ]
     },
     "execution_count": 175,
     "metadata": {},
     "output_type": "execute_result"
    }
   ],
   "source": [
    "train_best_scores"
   ]
  },
  {
   "cell_type": "code",
   "execution_count": 176,
   "metadata": {},
   "outputs": [
    {
     "data": {
      "text/plain": [
       "0.8495024139932805"
      ]
     },
     "execution_count": 176,
     "metadata": {},
     "output_type": "execute_result"
    }
   ],
   "source": [
    "best_score"
   ]
  },
  {
   "cell_type": "markdown",
   "metadata": {},
   "source": [
    "## 噪音过滤后的学习曲线 ##"
   ]
  },
  {
   "cell_type": "code",
   "execution_count": 271,
   "metadata": {},
   "outputs": [
    {
     "data": {
      "image/png": "[encoded data removed]",
      "text/plain": [
       "<Figure size 432x288 with 1 Axes>"
      ]
     },
     "metadata": {
      "needs_background": "light"
     },
     "output_type": "display_data"
    }
   ],
   "source": [
    "def plot_best_scores():\n",
    "    x = len(train_best_scores)\n",
    "    plt.plot(range(x),train_best_scores,label='train score')\n",
    "    plt.plot(range(x),valid_best_scores,label='valid score')\n",
    "    plt.legend()\n",
    "    plt.show()\n",
    "    \n",
    "plot_best_scores()"
   ]
  },
  {
   "cell_type": "markdown",
   "metadata": {},
   "source": [
    "# 删除低方差Feature #"
   ]
  },
  {
   "cell_type": "markdown",
   "metadata": {},
   "source": [
    "## 保存之前获得的结果 ##"
   ]
  },
  {
   "cell_type": "code",
   "execution_count": 269,
   "metadata": {},
   "outputs": [],
   "source": [
    "exclude_params = ['RH',\n",
    " 'THC',\n",
    " 'NMHC',\n",
    " 'AMB_TEMP',\n",
    " 'WIND_DIREC',\n",
    " 'NO2',\n",
    " 'WS_HR',\n",
    " 'WIND_SPEED',\n",
    " 'WD_HR',\n",
    " 'RAINFALL',\n",
    " 'CH4']\n",
    "\n",
    "valid_best_scores = [0.8458928052416193,\n",
    " 0.8465658857667734,\n",
    " 0.8472180038136082,\n",
    " 0.8478696241065699,\n",
    " 0.8483088469965182,\n",
    " 0.8486776551720734,\n",
    " 0.8489273441770215,\n",
    " 0.8491832160605401,\n",
    " 0.849413436958576,\n",
    " 0.8494950728665771,\n",
    " 0.8495024139932805]\n",
    "\n",
    "train_best_scores = [0.8825598602446174,\n",
    " 0.8823771158273139,\n",
    " 0.8821632742422434,\n",
    " 0.8818185465025833,\n",
    " 0.8815265470784478,\n",
    " 0.8811858669055083,\n",
    " 0.880950170396131,\n",
    " 0.8806664794354901,\n",
    " 0.8804019823989597,\n",
    " 0.8800917772013973,\n",
    " 0.8795468026598325]\n",
    "\n",
    "best_score = 0.8495024139932805"
   ]
  },
  {
   "cell_type": "markdown",
   "metadata": {},
   "source": [
    "## 配置pipeline ##"
   ]
  },
  {
   "cell_type": "code",
   "execution_count": 252,
   "metadata": {},
   "outputs": [
    {
     "data": {
      "text/plain": [
       "[('options',\n",
       "  SelectTestOptionTransformer(exclude=['RH', 'THC', 'NMHC', 'AMB_TEMP',\n",
       "                                       'WIND_DIREC', 'NO2', 'WS_HR', 'WIND_SPEED',\n",
       "                                       'WD_HR', 'RAINFALL', 'CH4'],\n",
       "                              exclude_index=None,\n",
       "                              test_option_index={'AMB_TEMP': 0, 'CH4': 1, 'CO': 2,\n",
       "                                                 'NMHC': 3, 'NO': 4, 'NO2': 5,\n",
       "                                                 'NOx': 6, 'O3': 7, 'PM10': 8,\n",
       "                                                 'PM2.5': 9, 'RAINFALL': 10,\n",
       "                                                 'RH': 11, 'SO2': 12, 'THC': 13,\n",
       "                                                 'WD_HR': 14, 'WIND_DIREC': 15,\n",
       "                                                 'WIND_SPEED': 16, 'WS_HR': 17})),\n",
       " ('variance', VarianceThreshold(threshold=0.0)),\n",
       " ('scaler', StandardScaler(copy=True, with_mean=True, with_std=True)),\n",
       " ('model',\n",
       "  LinearRegression(copy_X=True, fit_intercept=True, n_jobs=None, normalize=False))]"
      ]
     },
     "execution_count": 252,
     "metadata": {},
     "output_type": "execute_result"
    }
   ],
   "source": [
    "from sklearn.feature_selection import VarianceThreshold\n",
    "if(len(pipeline.steps) == 3):\n",
    "    pipeline.steps.insert(1,('variance',VarianceThreshold()))\n",
    "\n",
    "options.exclude = exclude_params\n",
    "\n",
    "pipeline.steps[3] = ('model',LinearRegression())\n",
    "pipeline.steps"
   ]
  },
  {
   "cell_type": "code",
   "execution_count": 251,
   "metadata": {},
   "outputs": [
    {
     "name": "stderr",
     "output_type": "stream",
     "text": [
      "[Parallel(n_jobs=4)]: Using backend LokyBackend with 4 concurrent workers.\n",
      "[Parallel(n_jobs=4)]: Done 100 out of 100 | elapsed:    6.6s finished\n"
     ]
    },
    {
     "data": {
      "image/png": "[encoded data removed]",
      "text/plain": [
       "<Figure size 432x288 with 1 Axes>"
      ]
     },
     "metadata": {
      "needs_background": "light"
     },
     "output_type": "display_data"
    }
   ],
   "source": [
    "treshold_range = [0.01 * i for i in range(20)]\n",
    "\n",
    "history = search_utils.search('variance__threshold',treshold_range,ylim=(.84,.89))"
   ]
  },
  {
   "cell_type": "markdown",
   "metadata": {},
   "source": [
    "## 方差过滤后的学习曲线##"
   ]
  },
  {
   "cell_type": "code",
   "execution_count": 272,
   "metadata": {},
   "outputs": [
    {
     "data": {
      "image/png": "[encoded data removed]",
      "text/plain": [
       "<Figure size 432x288 with 1 Axes>"
      ]
     },
     "metadata": {
      "needs_background": "light"
     },
     "output_type": "display_data"
    }
   ],
   "source": [
    "valid_scores = history[3].mean(axis=1)\n",
    "valid_max = valid_scores.max()\n",
    "valid_argmax = valid_scores.argmax()\n",
    "train_max = history[2][valid_argmax].mean()\n",
    "if len(valid_best_scores)==11:\n",
    "    valid_best_scores.append(valid_max)\n",
    "    train_best_scores.append(train_max)\n",
    "plot_best_scores()"
   ]
  },
  {
   "cell_type": "code",
   "execution_count": 253,
   "metadata": {},
   "outputs": [
    {
     "data": {
      "text/plain": [
       "[('options',\n",
       "  SelectTestOptionTransformer(exclude=['RH', 'THC', 'NMHC', 'AMB_TEMP',\n",
       "                                       'WIND_DIREC', 'NO2', 'WS_HR', 'WIND_SPEED',\n",
       "                                       'WD_HR', 'RAINFALL', 'CH4'],\n",
       "                              exclude_index=None,\n",
       "                              test_option_index={'AMB_TEMP': 0, 'CH4': 1, 'CO': 2,\n",
       "                                                 'NMHC': 3, 'NO': 4, 'NO2': 5,\n",
       "                                                 'NOx': 6, 'O3': 7, 'PM10': 8,\n",
       "                                                 'PM2.5': 9, 'RAINFALL': 10,\n",
       "                                                 'RH': 11, 'SO2': 12, 'THC': 13,\n",
       "                                                 'WD_HR': 14, 'WIND_DIREC': 15,\n",
       "                                                 'WIND_SPEED': 16, 'WS_HR': 17})),\n",
       " ('variance', VarianceThreshold(threshold=0.08)),\n",
       " ('scaler', StandardScaler(copy=True, with_mean=True, with_std=True)),\n",
       " ('model',\n",
       "  LinearRegression(copy_X=True, fit_intercept=True, n_jobs=None, normalize=False))]"
      ]
     },
     "execution_count": 253,
     "metadata": {},
     "output_type": "execute_result"
    }
   ],
   "source": [
    "pipeline.steps[1][1].threshold = 0.08\n",
    "pipeline.steps"
   ]
  },
  {
   "cell_type": "markdown",
   "metadata": {},
   "source": [
    "# 输出数据 #"
   ]
  },
  {
   "cell_type": "code",
   "execution_count": 255,
   "metadata": {},
   "outputs": [
    {
     "name": "stdout",
     "output_type": "stream",
     "text": [
      "训练集的RMSE:5.75118\n"
     ]
    }
   ],
   "source": [
    "pipeline.fit(X_train_full,y_train_full)\n",
    "\n",
    "preds_train_full = pipeline.predict(X_train_full)\n",
    "print('训练集的RMSE:{:.5f}'.format(mean_squared_error(preds_train_full,y_train_full)**0.5))\n",
    "\n",
    "preds_test = pipeline.predict(X_test)\n",
    "ids = ['id_' + str(i) for i in range(len(X_test))]\n",
    "output = pd.DataFrame({'id':ids,\n",
    "                       'value':preds_test})\n",
    "output.to_csv('output/pm25_submission.csv',index=False)"
   ]
  }
 ],
 "metadata": {
  "kernelspec": {
   "display_name": "Python 3",
   "language": "python",
   "name": "python3"
  },
  "language_info": {
   "codemirror_mode": {
    "name": "ipython",
    "version": 3
   },
   "file_extension": ".py",
   "mimetype": "text/x-python",
   "name": "python",
   "nbconvert_exporter": "python",
   "pygments_lexer": "ipython3",
   "version": "3.7.6"
  }
 },
 "nbformat": 4,
 "nbformat_minor": 4
}
