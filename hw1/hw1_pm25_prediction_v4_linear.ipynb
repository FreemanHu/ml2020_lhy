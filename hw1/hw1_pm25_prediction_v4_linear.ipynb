{
 "cells": [
  {
   "cell_type": "markdown",
   "metadata": {},
   "source": [
    "# 版本说明v4 #\n",
    "1. 使用LinearRegressor\n",
    "2. 使用pipeline\n",
    "3. 添加自定义的Transformer，可以选择指定的成分\n",
    "4. 针对各个参数进行了调优"
   ]
  },
  {
   "cell_type": "code",
   "execution_count": 223,
   "metadata": {},
   "outputs": [],
   "source": [
    "## 读取数据 #\n",
    "#训练集的大小是(4320,27)，因为前三列分别是”日期“，”测站“和”测项“，实际大小为(4320,24)。  \n",
    "#其中，4320又为(12,20,18)，分别对应”月份“，”日期“和”测项“。\n",
    "\n",
    "import pandas as pd\n",
    "import numpy as np\n",
    "\n",
    "filepath_train = 'datas/train.csv' # 训练集的路径\n",
    "filepath_test = 'datas/test.csv'   # 测试集的路径\n",
    "\n",
    "data_train_orig = pd.read_csv(filepath_train,encoding='big5') # 读取训练集数据，台湾是用的big5码\n",
    "data_test_orig = pd.read_csv(filepath_test,encoding='big5',\n",
    "                          header=None,\n",
    "                          index_col=0) # 读取测试集数据，没有列表，但是有index\n",
    "\n",
    "test_options = data_train_orig.iloc[0:18,2].values                # 所有测项名称\n",
    "test_option_index = {t:i for t,i in zip(test_options,range(18))}  # 测项的索引字典\n",
    "\n",
    "data_train_orig = data_train_orig.iloc[:,3:] # 去掉前三列无用数据\n",
    "data_train_orig[data_train_orig == 'NR'] = 0 # 设置雨量为NR的数据为0\n",
    "data_train_orig = data_train_orig.to_numpy()\n",
    "\n",
    "data_test_orig = data_test_orig.iloc[:,1:] # 去掉标识'测项'的第一列\n",
    "data_test_orig[data_test_orig == 'NR'] = 0\n",
    "data_test_numpy = data_test_orig.to_numpy()\n",
    "\n",
    "# 转化每月数据 #\n",
    "#把数据(12\\*20\\*18,24)转化成(12,18,24\\*18)的数据格式，对应(月份，测项，小时*每月天数)\n",
    "\n",
    "data_train_month = np.empty([12,18,24*20])  # 定义初始值\n",
    "\n",
    "for month in range(12):\n",
    "    for day in range(20):\n",
    "        row_start = (month * 20 + day) * 18 # 起始行，每月20天，每天18个特征\n",
    "        row_end = row_start + 18            # 每天18个特征\n",
    "        data_day = data_train_orig[row_start:row_end,:]        # 获得数据切片\n",
    "        \n",
    "        col_start = day * 24                # 每天有24小时\n",
    "        col_end = col_start + 24\n",
    "        data_train_month[month,:,col_start:col_end] = data_day # 设置数据切片\n",
    "\n",
    "# 生成样本数据 #\n",
    "#因为是预测第十天的数据，所以连续九天的数据合并成一条数据,X_train_full的维度(12\\*471,18\\*9)\n",
    "\n",
    "sample_number_month = 24 * 20 - 10 + 1                     # 计算每月的样本数\n",
    "\n",
    "X_train_full = np.empty([sample_number_month * 12,18 * 9]) # 初始化训练集X\n",
    "y_train_full = np.empty([sample_number_month * 12,])       # 初始化训练集y\n",
    "\n",
    "for month in range(12):\n",
    "    for sample in range(sample_number_month):\n",
    "        col_start = sample           # 开始列\n",
    "        col_end   = col_start + 9    # 取9列数据\n",
    "        data_X = data_train_month[month,:,col_start:col_end].reshape(1,-1) # 变成一行数据\n",
    "        data_y = data_train_month[month,test_option_index['PM2.5'],col_end] # y是下一列数据\n",
    "        \n",
    "        row = month * sample_number_month + sample # 插入数据的行号\n",
    "        X_train_full[row,:] = data_X\n",
    "        y_train_full[row] = data_y\n",
    "\n",
    "test_number = data_test_numpy.shape[0] // 18\n",
    "X_test = np.empty([test_number,18 * 9])\n",
    "for sample in range(test_number):\n",
    "    row_start = sample * 18\n",
    "    row_end = row_start + 18\n",
    "    X_test[sample] = data_test_numpy[row_start:row_end,:].reshape(1,-1)\n",
    "    \n",
    "X_train_pd = pd.DataFrame(X_train_full)\n",
    "X_test_pd  = pd.DataFrame(X_test)"
   ]
  },
  {
   "cell_type": "markdown",
   "metadata": {},
   "source": [
    "# 拆分训练集和验证集 #"
   ]
  },
  {
   "cell_type": "code",
   "execution_count": 224,
   "metadata": {},
   "outputs": [],
   "source": [
    "from sklearn.model_selection import train_test_split\n",
    "\n",
    "X_train,X_valid,y_train,y_valid = train_test_split(X_train_pd,\n",
    "                                                   y_train_full,\n",
    "                                                   test_size=0.2) # 分割验证集和验证集\n",
    "n_features = X_train.shape[1]"
   ]
  },
  {
   "cell_type": "markdown",
   "metadata": {},
   "source": [
    "# 建立pipeline #"
   ]
  },
  {
   "cell_type": "markdown",
   "metadata": {},
   "source": [
    "## 定义选择测项的Transformer ##"
   ]
  },
  {
   "cell_type": "code",
   "execution_count": 226,
   "metadata": {},
   "outputs": [
    {
     "data": {
      "text/html": [
       "<div>\n",
       "<style scoped>\n",
       "    .dataframe tbody tr th:only-of-type {\n",
       "        vertical-align: middle;\n",
       "    }\n",
       "\n",
       "    .dataframe tbody tr th {\n",
       "        vertical-align: top;\n",
       "    }\n",
       "\n",
       "    .dataframe thead th {\n",
       "        text-align: right;\n",
       "    }\n",
       "</style>\n",
       "<table border=\"1\" class=\"dataframe\">\n",
       "  <thead>\n",
       "    <tr style=\"text-align: right;\">\n",
       "      <th></th>\n",
       "      <th>81</th>\n",
       "      <th>82</th>\n",
       "      <th>83</th>\n",
       "      <th>84</th>\n",
       "      <th>85</th>\n",
       "      <th>86</th>\n",
       "      <th>87</th>\n",
       "      <th>88</th>\n",
       "      <th>89</th>\n",
       "    </tr>\n",
       "  </thead>\n",
       "  <tbody>\n",
       "    <tr>\n",
       "      <th>0</th>\n",
       "      <td>26.0</td>\n",
       "      <td>39.0</td>\n",
       "      <td>36.0</td>\n",
       "      <td>35.0</td>\n",
       "      <td>31.0</td>\n",
       "      <td>28.0</td>\n",
       "      <td>25.0</td>\n",
       "      <td>20.0</td>\n",
       "      <td>19.0</td>\n",
       "    </tr>\n",
       "    <tr>\n",
       "      <th>1</th>\n",
       "      <td>39.0</td>\n",
       "      <td>36.0</td>\n",
       "      <td>35.0</td>\n",
       "      <td>31.0</td>\n",
       "      <td>28.0</td>\n",
       "      <td>25.0</td>\n",
       "      <td>20.0</td>\n",
       "      <td>19.0</td>\n",
       "      <td>30.0</td>\n",
       "    </tr>\n",
       "    <tr>\n",
       "      <th>2</th>\n",
       "      <td>36.0</td>\n",
       "      <td>35.0</td>\n",
       "      <td>31.0</td>\n",
       "      <td>28.0</td>\n",
       "      <td>25.0</td>\n",
       "      <td>20.0</td>\n",
       "      <td>19.0</td>\n",
       "      <td>30.0</td>\n",
       "      <td>41.0</td>\n",
       "    </tr>\n",
       "    <tr>\n",
       "      <th>3</th>\n",
       "      <td>35.0</td>\n",
       "      <td>31.0</td>\n",
       "      <td>28.0</td>\n",
       "      <td>25.0</td>\n",
       "      <td>20.0</td>\n",
       "      <td>19.0</td>\n",
       "      <td>30.0</td>\n",
       "      <td>41.0</td>\n",
       "      <td>44.0</td>\n",
       "    </tr>\n",
       "    <tr>\n",
       "      <th>4</th>\n",
       "      <td>31.0</td>\n",
       "      <td>28.0</td>\n",
       "      <td>25.0</td>\n",
       "      <td>20.0</td>\n",
       "      <td>19.0</td>\n",
       "      <td>30.0</td>\n",
       "      <td>41.0</td>\n",
       "      <td>44.0</td>\n",
       "      <td>33.0</td>\n",
       "    </tr>\n",
       "    <tr>\n",
       "      <th>...</th>\n",
       "      <td>...</td>\n",
       "      <td>...</td>\n",
       "      <td>...</td>\n",
       "      <td>...</td>\n",
       "      <td>...</td>\n",
       "      <td>...</td>\n",
       "      <td>...</td>\n",
       "      <td>...</td>\n",
       "      <td>...</td>\n",
       "    </tr>\n",
       "    <tr>\n",
       "      <th>5647</th>\n",
       "      <td>8.0</td>\n",
       "      <td>10.0</td>\n",
       "      <td>4.0</td>\n",
       "      <td>1.0</td>\n",
       "      <td>1.0</td>\n",
       "      <td>7.0</td>\n",
       "      <td>24.0</td>\n",
       "      <td>37.0</td>\n",
       "      <td>49.0</td>\n",
       "    </tr>\n",
       "    <tr>\n",
       "      <th>5648</th>\n",
       "      <td>10.0</td>\n",
       "      <td>4.0</td>\n",
       "      <td>1.0</td>\n",
       "      <td>1.0</td>\n",
       "      <td>7.0</td>\n",
       "      <td>24.0</td>\n",
       "      <td>37.0</td>\n",
       "      <td>49.0</td>\n",
       "      <td>37.0</td>\n",
       "    </tr>\n",
       "    <tr>\n",
       "      <th>5649</th>\n",
       "      <td>4.0</td>\n",
       "      <td>1.0</td>\n",
       "      <td>1.0</td>\n",
       "      <td>7.0</td>\n",
       "      <td>24.0</td>\n",
       "      <td>37.0</td>\n",
       "      <td>49.0</td>\n",
       "      <td>37.0</td>\n",
       "      <td>28.0</td>\n",
       "    </tr>\n",
       "    <tr>\n",
       "      <th>5650</th>\n",
       "      <td>1.0</td>\n",
       "      <td>1.0</td>\n",
       "      <td>7.0</td>\n",
       "      <td>24.0</td>\n",
       "      <td>37.0</td>\n",
       "      <td>49.0</td>\n",
       "      <td>37.0</td>\n",
       "      <td>28.0</td>\n",
       "      <td>17.0</td>\n",
       "    </tr>\n",
       "    <tr>\n",
       "      <th>5651</th>\n",
       "      <td>1.0</td>\n",
       "      <td>7.0</td>\n",
       "      <td>24.0</td>\n",
       "      <td>37.0</td>\n",
       "      <td>49.0</td>\n",
       "      <td>37.0</td>\n",
       "      <td>28.0</td>\n",
       "      <td>17.0</td>\n",
       "      <td>24.0</td>\n",
       "    </tr>\n",
       "  </tbody>\n",
       "</table>\n",
       "<p>5652 rows × 9 columns</p>\n",
       "</div>"
      ],
      "text/plain": [
       "        81    82    83    84    85    86    87    88    89\n",
       "0     26.0  39.0  36.0  35.0  31.0  28.0  25.0  20.0  19.0\n",
       "1     39.0  36.0  35.0  31.0  28.0  25.0  20.0  19.0  30.0\n",
       "2     36.0  35.0  31.0  28.0  25.0  20.0  19.0  30.0  41.0\n",
       "3     35.0  31.0  28.0  25.0  20.0  19.0  30.0  41.0  44.0\n",
       "4     31.0  28.0  25.0  20.0  19.0  30.0  41.0  44.0  33.0\n",
       "...    ...   ...   ...   ...   ...   ...   ...   ...   ...\n",
       "5647   8.0  10.0   4.0   1.0   1.0   7.0  24.0  37.0  49.0\n",
       "5648  10.0   4.0   1.0   1.0   7.0  24.0  37.0  49.0  37.0\n",
       "5649   4.0   1.0   1.0   7.0  24.0  37.0  49.0  37.0  28.0\n",
       "5650   1.0   1.0   7.0  24.0  37.0  49.0  37.0  28.0  17.0\n",
       "5651   1.0   7.0  24.0  37.0  49.0  37.0  28.0  17.0  24.0\n",
       "\n",
       "[5652 rows x 9 columns]"
      ]
     },
     "execution_count": 226,
     "metadata": {},
     "output_type": "execute_result"
    }
   ],
   "source": [
    "from sklearn.base import BaseEstimator,TransformerMixin\n",
    "class SelectTestOptionTransformer(BaseEstimator,TransformerMixin):\n",
    "    \n",
    "    def __init__(self,exclude=[],exclude_index=None):\n",
    "        self.exclude = exclude\n",
    "        self.exclude_index = exclude_index\n",
    "        \n",
    "    def fit(self,X,y=None):\n",
    "        return self\n",
    "\n",
    "    def transform(self,X,y =None):\n",
    "        exclude = []\n",
    "        \n",
    "        if self.exclude_index:\n",
    "            exclude = [self.exclude_index]\n",
    "\n",
    "        elif self.exclude:\n",
    "            exclude = [test_option_index[e] for e in self.exclude] # 获得测项对应的索引值\n",
    "        \n",
    "        X_copy = X.copy()                                   \n",
    "        \n",
    "        for e in exclude:\n",
    "            X_copy.drop(columns=[9 * e + i for i in range(9)],inplace=True)                            \n",
    "        return X_copy\n",
    "\n",
    "\n",
    "SelectTestOptionTransformer(test_option_index.keys() - ['PM2.5']).transform(X_train_pd)\n",
    "# SelectTestOptionTransformer().transform(X_test_pd)"
   ]
  },
  {
   "cell_type": "code",
   "execution_count": 222,
   "metadata": {},
   "outputs": [
    {
     "name": "stdout",
     "output_type": "stream",
     "text": [
      "训练集的RMSE:5.78681\n",
      "验证集的RMSE:6.40383\n",
      "验证集的score:0.86520\n"
     ]
    }
   ],
   "source": [
    "from sklearn.preprocessing import StandardScaler\n",
    "from sklearn.pipeline import Pipeline\n",
    "from sklearn.linear_model import LinearRegression\n",
    "from sklearn.metrics import mean_squared_error\n",
    "\n",
    "exclude = [\n",
    "    'CH4',\n",
    "    'CO',\n",
    "    'NMHC',\n",
    "    'NO',\n",
    "    'NO2',\n",
    "    'NOx',\n",
    "    'RAINFALL',\n",
    "    'RH',\n",
    "    'SO2',\n",
    "    'THC',\n",
    "    'WD_HR',\n",
    "    'WIND_DIREC',\n",
    "    'WIND_SPEED',\n",
    "    'WS_HR'\n",
    "]\n",
    "options = SelectTestOptionTransformer(exclude)\n",
    "\n",
    "model = LinearRegression()\n",
    "\n",
    "pipeline = Pipeline(steps=[('options',options),\n",
    "                           ('scaler', StandardScaler()),\n",
    "                           ('model' , model)])\n",
    "\n",
    "pipeline.fit(X_train,y_train)\n",
    "\n",
    "train_rmse = mean_squared_error(pipeline.predict(X_train),y_train)**0.5\n",
    "valid_rmse = mean_squared_error(pipeline.predict(X_valid),y_valid)**0.5\n",
    "print(\"训练集的RMSE:{:.5f}\".format(train_rmse))\n",
    "print(\"验证集的RMSE:{:.5f}\".format(valid_rmse))\n",
    "print(\"验证集的score:{:.5f}\".format(pipeline.score(X_valid,y_valid)))"
   ]
  },
  {
   "cell_type": "markdown",
   "metadata": {},
   "source": [
    "# 定义超参搜索的工具 #"
   ]
  },
  {
   "cell_type": "markdown",
   "metadata": {},
   "source": [
    "## 定义画学习曲线函数 ##"
   ]
  },
  {
   "cell_type": "code",
   "execution_count": 157,
   "metadata": {},
   "outputs": [],
   "source": [
    "import matplotlib.pyplot as plt\n",
    "\n",
    "def plot_validation_curve(train_scores,valid_scores,param_range,ylim=(0.7,1)):\n",
    "    plt.plot(param_range,train_scores.mean(axis=1),label='train scores') # 画训练集的分数\n",
    "    \n",
    "    valid_mean = valid_scores.mean(axis=1)\n",
    "    plt.plot(param_range,valid_mean,label='valid scores')                # 画验证集的分数\n",
    "\n",
    "    valid_max = valid_mean.max()                           # 验证集中的最大分数\n",
    "    valid_argmax = param_range[valid_mean.argmax()]        # 验证集最大分数对应的参数取值\n",
    "    plt.plot(valid_argmax,valid_max,'x',)                  # 画出最大参数的位置\n",
    "    plt.text(valid_argmax,valid_max + 0.01,\n",
    "             '({},{:.4f})'.format(valid_argmax,valid_max)) # 画出最大参数的坐标值\n",
    "\n",
    "    plt.legend()\n",
    "    plt.ylim(ylim)\n",
    "    plt.show()\n",
    "    \n",
    "    return valid_argmax,valid_max # 返回最大得分和对应的参数值"
   ]
  },
  {
   "cell_type": "markdown",
   "metadata": {},
   "source": [
    "## 定义搜索函数 ##"
   ]
  },
  {
   "cell_type": "code",
   "execution_count": 158,
   "metadata": {},
   "outputs": [],
   "source": [
    "from sklearn.model_selection import validation_curve\n",
    "\n",
    "def search(param,param_range,ylim=(0.7,1)):\n",
    "    train_scores,valid_scores = validation_curve(pipeline,\n",
    "                                                 X_train,\n",
    "                                                 y_train,\n",
    "                                                 param,\n",
    "                                                 param_range,\n",
    "                                                 verbose=1,\n",
    "                                                 n_jobs=4,\n",
    "                                                 error_score=0)\n",
    "    param_max,score_max = plot_validation_curve(train_scores,valid_scores,param_range)\n",
    "    return (param_max,score_max,train_scores,valid_scores)"
   ]
  },
  {
   "cell_type": "markdown",
   "metadata": {},
   "source": [
    "## 定义方格搜索函数 ##"
   ]
  },
  {
   "cell_type": "code",
   "execution_count": 159,
   "metadata": {},
   "outputs": [],
   "source": [
    "from sklearn.model_selection import GridSearchCV\n",
    "\n",
    "def grid_search(gridparam):\n",
    "    grid_search = GridSearchCV(pipeline,gridparam,verbose=1,n_jobs=4)\n",
    "\n",
    "    history = grid_search.fit(X_train,y_train)\n",
    "\n",
    "    print(history.best_params_)\n",
    "    print(history.best_score_)\n",
    "    \n",
    "    return history"
   ]
  },
  {
   "cell_type": "markdown",
   "metadata": {},
   "source": [
    "# 超参搜索 #"
   ]
  },
  {
   "cell_type": "markdown",
   "metadata": {},
   "source": [
    "## 调参前训练score ##"
   ]
  },
  {
   "cell_type": "code",
   "execution_count": 166,
   "metadata": {},
   "outputs": [
    {
     "data": {
      "text/plain": [
       "0.8695275608568004"
      ]
     },
     "execution_count": 166,
     "metadata": {},
     "output_type": "execute_result"
    }
   ],
   "source": [
    "from sklearn.model_selection import cross_val_score\n",
    "\n",
    "score_base = cross_val_score(pipeline,X_train,y_train).mean() # 打印无调参时的score值\n",
    "score_base"
   ]
  },
  {
   "cell_type": "code",
   "execution_count": 163,
   "metadata": {
    "scrolled": false
   },
   "outputs": [
    {
     "name": "stderr",
     "output_type": "stream",
     "text": [
      "[Parallel(n_jobs=4)]: Using backend LokyBackend with 4 concurrent workers.\n",
      "[Parallel(n_jobs=4)]: Done  90 out of  90 | elapsed:    5.7s finished\n"
     ]
    },
    {
     "data": {
      "image/png": "[encoded data removed]",
      "text/plain": [
       "<Figure size 432x288 with 1 Axes>"
      ]
     },
     "metadata": {
      "needs_background": "light"
     },
     "output_type": "display_data"
    }
   ],
   "source": [
    "history = search('options__exclude_index',range(18))"
   ]
  },
  {
   "cell_type": "code",
   "execution_count": 201,
   "metadata": {},
   "outputs": [
    {
     "data": {
      "text/plain": [
       "['CH4',\n",
       " 'CO',\n",
       " 'NMHC',\n",
       " 'NO',\n",
       " 'NO2',\n",
       " 'NOx',\n",
       " 'RAINFALL',\n",
       " 'RH',\n",
       " 'SO2',\n",
       " 'THC',\n",
       " 'WD_HR',\n",
       " 'WIND_DIREC',\n",
       " 'WIND_SPEED',\n",
       " 'WS_HR']"
      ]
     },
     "execution_count": 201,
     "metadata": {},
     "output_type": "execute_result"
    }
   ],
   "source": [
    "scores_valid = history[3]\n",
    "scores_mean_valid = scores_valid.mean(axis=1)\n",
    "exclude = [test_options[i] for i,score in zip(range(18),scores_mean_valid)\n",
    "                                            if score > score_base]\n",
    "exclude"
   ]
  },
  {
   "cell_type": "code",
   "execution_count": 193,
   "metadata": {},
   "outputs": [
    {
     "data": {
      "text/plain": [
       "{'AMB_TEMP', 'O3', 'PM10', 'PM2.5'}"
      ]
     },
     "execution_count": 193,
     "metadata": {},
     "output_type": "execute_result"
    }
   ],
   "source": [
    "test_option_index.keys() - exclude"
   ]
  },
  {
   "cell_type": "markdown",
   "metadata": {},
   "source": [
    "## 只评估PM2.5 ##\n",
    "**总结**：效果比所有的数据差"
   ]
  },
  {
   "cell_type": "code",
   "execution_count": 181,
   "metadata": {
    "scrolled": true
   },
   "outputs": [
    {
     "data": {
      "text/plain": [
       "0.8653195076141778"
      ]
     },
     "execution_count": 181,
     "metadata": {},
     "output_type": "execute_result"
    }
   ],
   "source": [
    "options.exclude = test_option_index.keys() - ['PM2.5'] # 从所有测项中删除PM2.5\n",
    "\n",
    "cross_val_score(pipeline,X_train,y_train).mean()"
   ]
  },
  {
   "cell_type": "markdown",
   "metadata": {},
   "source": [
    "# 去掉噪音 #\n",
    "**总结**：准确率提升"
   ]
  },
  {
   "cell_type": "code",
   "execution_count": 202,
   "metadata": {},
   "outputs": [
    {
     "data": {
      "text/plain": [
       "0.8711557785661759"
      ]
     },
     "execution_count": 202,
     "metadata": {},
     "output_type": "execute_result"
    }
   ],
   "source": [
    "options.exclude = exclude\n",
    "options.exclude_index = None\n",
    "\n",
    "cross_val_score(pipeline,X_train,y_train).mean()"
   ]
  },
  {
   "cell_type": "code",
   "execution_count": 199,
   "metadata": {},
   "outputs": [
    {
     "data": {
      "text/plain": [
       "0.8710513304193649"
      ]
     },
     "execution_count": 199,
     "metadata": {},
     "output_type": "execute_result"
    }
   ],
   "source": [
    "options.exclude = exclude\n",
    "options.exclude.append('O3')\n",
    "options.exclude_index = None\n",
    "\n",
    "cross_val_score(pipeline,X_train,y_train).mean()"
   ]
  },
  {
   "cell_type": "markdown",
   "metadata": {},
   "source": [
    "去掉一些气体"
   ]
  },
  {
   "cell_type": "code",
   "execution_count": 195,
   "metadata": {},
   "outputs": [
    {
     "data": {
      "text/plain": [
       "0.8706334274851468"
      ]
     },
     "execution_count": 195,
     "metadata": {},
     "output_type": "execute_result"
    }
   ],
   "source": [
    "options.exclude = ['CH4','CO','NO','NO2','SO2','O3']\n",
    "options.exclude_index = None\n",
    "\n",
    "cross_val_score(pipeline,X_train,y_train).mean()"
   ]
  },
  {
   "cell_type": "markdown",
   "metadata": {},
   "source": [
    "# 训练模型 #"
   ]
  },
  {
   "cell_type": "code",
   "execution_count": 203,
   "metadata": {
    "scrolled": false
   },
   "outputs": [
    {
     "name": "stdout",
     "output_type": "stream",
     "text": [
      "训练集的RMSE:5.78681\n",
      "验证集的RMSE:6.40383\n",
      "验证集的score:0.86520\n"
     ]
    }
   ],
   "source": [
    "options.exclude = exclude\n",
    "options.exclude_index = None\n",
    "\n",
    "pipeline.fit(X_train,y_train)\n",
    "\n",
    "train_rmse = mean_squared_error(pipeline.predict(X_train),y_train)**0.5\n",
    "valid_rmse = mean_squared_error(pipeline.predict(X_valid),y_valid)**0.5\n",
    "print(\"训练集的RMSE:{:.5f}\".format(train_rmse))\n",
    "print(\"验证集的RMSE:{:.5f}\".format(valid_rmse))\n",
    "print(\"验证集的score:{:.5f}\".format(pipeline.score(X_valid,y_valid)))"
   ]
  },
  {
   "cell_type": "markdown",
   "metadata": {},
   "source": [
    "# 输出数据 #"
   ]
  },
  {
   "cell_type": "code",
   "execution_count": 204,
   "metadata": {},
   "outputs": [
    {
     "name": "stdout",
     "output_type": "stream",
     "text": [
      "训练集的RMSE:5.90654\n"
     ]
    }
   ],
   "source": [
    "pipeline.fit(X_train_pd,y_train_full)\n",
    "\n",
    "preds_train_full = pipeline.predict(X_train_pd)\n",
    "print('训练集的RMSE:{:.5f}'.format(mean_squared_error(preds_train_full,y_train_full)**0.5))\n",
    "\n",
    "preds_test = pipeline.predict(X_test_pd)\n",
    "ids = ['id_' + str(i) for i in range(len(X_test_pd))]\n",
    "output = pd.DataFrame({'id':ids,\n",
    "                       'value':preds_test})\n",
    "output.to_csv('output/pm25_submission.csv',index=False)"
   ]
  },
  {
   "cell_type": "code",
   "execution_count": null,
   "metadata": {},
   "outputs": [],
   "source": []
  }
 ],
 "metadata": {
  "kernelspec": {
   "display_name": "Python 3",
   "language": "python",
   "name": "python3"
  },
  "language_info": {
   "codemirror_mode": {
    "name": "ipython",
    "version": 3
   },
   "file_extension": ".py",
   "mimetype": "text/x-python",
   "name": "python",
   "nbconvert_exporter": "python",
   "pygments_lexer": "ipython3",
   "version": "3.7.6"
  }
 },
 "nbformat": 4,
 "nbformat_minor": 4
}
