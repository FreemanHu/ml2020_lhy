{
 "cells": [
  {
   "cell_type": "markdown",
   "metadata": {},
   "source": [
    "# 版本说明v4 #\n",
    "1. 使用LinearRegressor\n",
    "2. 使用pipeline\n",
    "3. 添加自定义的Transformer，可以选择指定的成分\n",
    "4. 针对各个参数进行了调优\n",
    "5. 封装了工具方法"
   ]
  },
  {
   "cell_type": "markdown",
   "metadata": {},
   "source": [
    "# 拆分训练集和验证集 #"
   ]
  },
  {
   "cell_type": "code",
   "execution_count": 352,
   "metadata": {},
   "outputs": [
    {
     "name": "stdout",
     "output_type": "stream",
     "text": [
      "The autoreload extension is already loaded. To reload it, use:\n",
      "  %reload_ext autoreload\n"
     ]
    }
   ],
   "source": [
    "from hw1_utils import *\n",
    "from sklearn.model_selection import train_test_split\n",
    "%load_ext autoreload\n",
    "%autoreload 2\n",
    "\n",
    "X_train_full,y_train_full,X_test,test_option_index,test_options = load_data() # 加载训练和测试数据\n",
    "\n",
    "X_train,X_valid,y_train,y_valid = train_test_split(X_train_full,\n",
    "                                                   y_train_full,\n",
    "                                                   test_size=0.2) # 分割验证集和验证集\n",
    "n_features = X_train.shape[1]"
   ]
  },
  {
   "cell_type": "markdown",
   "metadata": {},
   "source": [
    "# 建立pipeline #"
   ]
  },
  {
   "cell_type": "code",
   "execution_count": 273,
   "metadata": {},
   "outputs": [],
   "source": [
    "from sklearn.preprocessing import StandardScaler\n",
    "from sklearn.pipeline import Pipeline\n",
    "from sklearn.linear_model import LinearRegression\n",
    "from sklearn.metrics import mean_squared_error\n",
    "\n",
    "options = SelectTestOptionTransformer(test_option_index) # 选择测项特征的转化器\n",
    "\n",
    "feature_model = Pipeline(steps=[('options',options),\n",
    "                                ('scaler',StandardScaler())])\n",
    "model = None\n",
    "pipeline = Pipeline(steps=[('feature_model',feature_model),\n",
    "                           ('model' , model)])\n",
    "\n",
    "search_utils = SearchUtils(pipeline,X_train_full,y_train_full)"
   ]
  },
  {
   "cell_type": "markdown",
   "metadata": {},
   "source": [
    "## 使用LinearRegression模型 ##"
   ]
  },
  {
   "cell_type": "code",
   "execution_count": 236,
   "metadata": {},
   "outputs": [
    {
     "data": {
      "text/plain": [
       "0.8443606921920231"
      ]
     },
     "execution_count": 236,
     "metadata": {},
     "output_type": "execute_result"
    }
   ],
   "source": [
    "from sklearn.model_selection import cross_val_score\n",
    "\n",
    "pipeline.steps[2] = ('model',LinearRegression())\n",
    "\n",
    "cross_val_score(pipeline,X_train_full,y_train_full).mean()"
   ]
  },
  {
   "cell_type": "markdown",
   "metadata": {},
   "source": [
    "# 剔除无关Feature #\n",
    "1. 将所有feature放进去，计算cv_score，记录为best score\n",
    "2. 然后分别减掉一个feature，选出最高的cv_score，如果，如果比best_score，那么去掉这个feature\n",
    "3. 然后重复上面的操作，直到最高的score不再比best_score高为止。"
   ]
  },
  {
   "cell_type": "code",
   "execution_count": 237,
   "metadata": {},
   "outputs": [
    {
     "name": "stdout",
     "output_type": "stream",
     "text": [
      "剔除RH后，训练集得分为0.8826，验证集得分为0.8459\n",
      "剔除THC后，训练集得分为0.8824，验证集得分为0.8466\n",
      "剔除NMHC后，训练集得分为0.8822，验证集得分为0.8472\n",
      "剔除AMB_TEMP后，训练集得分为0.8818，验证集得分为0.8479\n",
      "剔除WIND_DIREC后，训练集得分为0.8815，验证集得分为0.8483\n",
      "剔除NO2后，训练集得分为0.8812，验证集得分为0.8487\n",
      "剔除WS_HR后，训练集得分为0.8810，验证集得分为0.8489\n",
      "剔除WIND_SPEED后，训练集得分为0.8807，验证集得分为0.8492\n",
      "剔除WD_HR后，训练集得分为0.8804，验证集得分为0.8494\n",
      "剔除RAINFALL后，训练集得分为0.8801，验证集得分为0.8495\n",
      "剔除CH4后，训练集得分为0.8795，验证集得分为0.8495\n",
      "剔除完成。\n"
     ]
    }
   ],
   "source": [
    "pipeline.steps[2] = ('model',LinearRegression())\n",
    "options.exclude = []\n",
    "\n",
    "train_best_scores = []\n",
    "valid_best_scores = []\n",
    "exclude_params = []\n",
    "best_score = 0\n",
    "flag = True\n",
    "while flag:\n",
    "    param_range = [exclude_params + [test_options[i]] for i in range(18)]\n",
    "    \n",
    "    train_scores,valid_scores = validation_curve(pipeline,X_train_full,y_train_full,\n",
    "                                                 'options__exclude',param_range)\n",
    "    \n",
    "    valid_score = valid_scores.mean(axis=1)              # 取验证集每个feature的平均分\n",
    "    valid_max = valid_score.max()                        # 取出最高分\n",
    "    valid_argmax = valid_score.argmax()                  # 最高分对应的feature值\n",
    "    train_max = train_scores.mean(axis=1)[valid_argmax]  # 该feature在训练集的分数作为训练集最高分\n",
    "    \n",
    "    if valid_max > best_score:\n",
    "        train_best_scores.append(train_max)\n",
    "        valid_best_scores.append(valid_max)\n",
    "        best_score = valid_max\n",
    "        if len(valid_score) > 1:\n",
    "            test_option_killed = test_options[valid_argmax]\n",
    "            exclude_params.append(test_option_killed)\n",
    "        print('剔除{}后，训练集得分为{:.4f}，验证集得分为{:.4f}'.format(\n",
    "            test_option_killed,train_max,valid_max))\n",
    "            \n",
    "    else:\n",
    "        print('剔除完成。')\n",
    "        flag = False"
   ]
  },
  {
   "cell_type": "code",
   "execution_count": 167,
   "metadata": {},
   "outputs": [
    {
     "data": {
      "text/plain": [
       "['RH',\n",
       " 'THC',\n",
       " 'NMHC',\n",
       " 'AMB_TEMP',\n",
       " 'WIND_DIREC',\n",
       " 'NO2',\n",
       " 'WS_HR',\n",
       " 'WIND_SPEED',\n",
       " 'WD_HR',\n",
       " 'RAINFALL',\n",
       " 'CH4']"
      ]
     },
     "execution_count": 167,
     "metadata": {},
     "output_type": "execute_result"
    }
   ],
   "source": [
    "exclude_params "
   ]
  },
  {
   "cell_type": "code",
   "execution_count": 170,
   "metadata": {},
   "outputs": [
    {
     "data": {
      "text/plain": [
       "[0.8458928052416193,\n",
       " 0.8465658857667734,\n",
       " 0.8472180038136082,\n",
       " 0.8478696241065699,\n",
       " 0.8483088469965182,\n",
       " 0.8486776551720734,\n",
       " 0.8489273441770215,\n",
       " 0.8491832160605401,\n",
       " 0.849413436958576,\n",
       " 0.8494950728665771,\n",
       " 0.8495024139932805]"
      ]
     },
     "execution_count": 170,
     "metadata": {},
     "output_type": "execute_result"
    }
   ],
   "source": [
    "valid_best_scores"
   ]
  },
  {
   "cell_type": "code",
   "execution_count": 175,
   "metadata": {},
   "outputs": [
    {
     "data": {
      "text/plain": [
       "[0.8825598602446174,\n",
       " 0.8823771158273139,\n",
       " 0.8821632742422434,\n",
       " 0.8818185465025833,\n",
       " 0.8815265470784478,\n",
       " 0.8811858669055083,\n",
       " 0.880950170396131,\n",
       " 0.8806664794354901,\n",
       " 0.8804019823989597,\n",
       " 0.8800917772013973,\n",
       " 0.8795468026598325]"
      ]
     },
     "execution_count": 175,
     "metadata": {},
     "output_type": "execute_result"
    }
   ],
   "source": [
    "train_best_scores"
   ]
  },
  {
   "cell_type": "code",
   "execution_count": 176,
   "metadata": {},
   "outputs": [
    {
     "data": {
      "text/plain": [
       "0.8495024139932805"
      ]
     },
     "execution_count": 176,
     "metadata": {},
     "output_type": "execute_result"
    }
   ],
   "source": [
    "best_score"
   ]
  },
  {
   "cell_type": "markdown",
   "metadata": {},
   "source": [
    "## 噪音过滤后的学习曲线 ##"
   ]
  },
  {
   "cell_type": "code",
   "execution_count": 271,
   "metadata": {},
   "outputs": [
    {
     "data": {
      "image/png": "[encoded data removed]",
      "text/plain": [
       "<Figure size 432x288 with 1 Axes>"
      ]
     },
     "metadata": {
      "needs_background": "light"
     },
     "output_type": "display_data"
    }
   ],
   "source": [
    "def plot_best_scores():\n",
    "    x = len(train_best_scores)\n",
    "    plt.plot(range(x),train_best_scores,label='train score')\n",
    "    plt.plot(range(x),valid_best_scores,label='valid score')\n",
    "    plt.legend()\n",
    "    plt.show()\n",
    "    \n",
    "plot_best_scores()"
   ]
  },
  {
   "cell_type": "markdown",
   "metadata": {},
   "source": [
    "# 方差过滤 #"
   ]
  },
  {
   "cell_type": "markdown",
   "metadata": {},
   "source": [
    "## 保存之前获得的结果 ##"
   ]
  },
  {
   "cell_type": "code",
   "execution_count": 269,
   "metadata": {},
   "outputs": [],
   "source": [
    "exclude_params = ['RH',\n",
    " 'THC',\n",
    " 'NMHC',\n",
    " 'AMB_TEMP',\n",
    " 'WIND_DIREC',\n",
    " 'NO2',\n",
    " 'WS_HR',\n",
    " 'WIND_SPEED',\n",
    " 'WD_HR',\n",
    " 'RAINFALL',\n",
    " 'CH4']\n",
    "\n",
    "valid_best_scores = [0.8458928052416193,\n",
    " 0.8465658857667734,\n",
    " 0.8472180038136082,\n",
    " 0.8478696241065699,\n",
    " 0.8483088469965182,\n",
    " 0.8486776551720734,\n",
    " 0.8489273441770215,\n",
    " 0.8491832160605401,\n",
    " 0.849413436958576,\n",
    " 0.8494950728665771,\n",
    " 0.8495024139932805]\n",
    "\n",
    "train_best_scores = [0.8825598602446174,\n",
    " 0.8823771158273139,\n",
    " 0.8821632742422434,\n",
    " 0.8818185465025833,\n",
    " 0.8815265470784478,\n",
    " 0.8811858669055083,\n",
    " 0.880950170396131,\n",
    " 0.8806664794354901,\n",
    " 0.8804019823989597,\n",
    " 0.8800917772013973,\n",
    " 0.8795468026598325]\n",
    "\n",
    "best_score = 0.8495024139932805"
   ]
  },
  {
   "cell_type": "markdown",
   "metadata": {},
   "source": [
    "## 配置pipeline ##"
   ]
  },
  {
   "cell_type": "code",
   "execution_count": 252,
   "metadata": {},
   "outputs": [
    {
     "data": {
      "text/plain": [
       "[('options',\n",
       "  SelectTestOptionTransformer(exclude=['RH', 'THC', 'NMHC', 'AMB_TEMP',\n",
       "                                       'WIND_DIREC', 'NO2', 'WS_HR', 'WIND_SPEED',\n",
       "                                       'WD_HR', 'RAINFALL', 'CH4'],\n",
       "                              exclude_index=None,\n",
       "                              test_option_index={'AMB_TEMP': 0, 'CH4': 1, 'CO': 2,\n",
       "                                                 'NMHC': 3, 'NO': 4, 'NO2': 5,\n",
       "                                                 'NOx': 6, 'O3': 7, 'PM10': 8,\n",
       "                                                 'PM2.5': 9, 'RAINFALL': 10,\n",
       "                                                 'RH': 11, 'SO2': 12, 'THC': 13,\n",
       "                                                 'WD_HR': 14, 'WIND_DIREC': 15,\n",
       "                                                 'WIND_SPEED': 16, 'WS_HR': 17})),\n",
       " ('variance', VarianceThreshold(threshold=0.0)),\n",
       " ('scaler', StandardScaler(copy=True, with_mean=True, with_std=True)),\n",
       " ('model',\n",
       "  LinearRegression(copy_X=True, fit_intercept=True, n_jobs=None, normalize=False))]"
      ]
     },
     "execution_count": 252,
     "metadata": {},
     "output_type": "execute_result"
    }
   ],
   "source": [
    "from sklearn.feature_selection import VarianceThreshold\n",
    "if(len(pipeline.steps) == 3):\n",
    "    pipeline.steps.insert(1,('variance',VarianceThreshold()))\n",
    "\n",
    "options.exclude = exclude_params\n",
    "\n",
    "pipeline.steps[3] = ('model',LinearRegression())\n",
    "pipeline.steps"
   ]
  },
  {
   "cell_type": "code",
   "execution_count": 251,
   "metadata": {},
   "outputs": [
    {
     "name": "stderr",
     "output_type": "stream",
     "text": [
      "[Parallel(n_jobs=4)]: Using backend LokyBackend with 4 concurrent workers.\n",
      "[Parallel(n_jobs=4)]: Done 100 out of 100 | elapsed:    6.6s finished\n"
     ]
    },
    {
     "data": {
      "image/png": "[encoded data removed]",
      "text/plain": [
       "<Figure size 432x288 with 1 Axes>"
      ]
     },
     "metadata": {
      "needs_background": "light"
     },
     "output_type": "display_data"
    }
   ],
   "source": [
    "treshold_range = [0.01 * i for i in range(20)]\n",
    "\n",
    "history = search_utils.search('variance__threshold',treshold_range,ylim=(.84,.89))"
   ]
  },
  {
   "cell_type": "markdown",
   "metadata": {},
   "source": [
    "## 方差过滤后的学习曲线##"
   ]
  },
  {
   "cell_type": "code",
   "execution_count": 340,
   "metadata": {},
   "outputs": [],
   "source": [
    "def plot_history(history,last_len):\n",
    "    valid_scores = history[3].mean(axis=1)\n",
    "    valid_max = valid_scores.max()\n",
    "    valid_argmax = valid_scores.argmax()\n",
    "    train_max = history[2][valid_argmax].mean()\n",
    "    if len(valid_best_scores)==last_len:\n",
    "        valid_best_scores.append(valid_max)\n",
    "        train_best_scores.append(train_max)\n",
    "    plot_best_scores()"
   ]
  },
  {
   "cell_type": "code",
   "execution_count": 272,
   "metadata": {},
   "outputs": [
    {
     "data": {
      "image/png": "[encoded data removed]",
      "text/plain": [
       "<Figure size 432x288 with 1 Axes>"
      ]
     },
     "metadata": {
      "needs_background": "light"
     },
     "output_type": "display_data"
    }
   ],
   "source": [
    "plot_history(history,11)"
   ]
  },
  {
   "cell_type": "code",
   "execution_count": 253,
   "metadata": {},
   "outputs": [
    {
     "data": {
      "text/plain": [
       "[('options',\n",
       "  SelectTestOptionTransformer(exclude=['RH', 'THC', 'NMHC', 'AMB_TEMP',\n",
       "                                       'WIND_DIREC', 'NO2', 'WS_HR', 'WIND_SPEED',\n",
       "                                       'WD_HR', 'RAINFALL', 'CH4'],\n",
       "                              exclude_index=None,\n",
       "                              test_option_index={'AMB_TEMP': 0, 'CH4': 1, 'CO': 2,\n",
       "                                                 'NMHC': 3, 'NO': 4, 'NO2': 5,\n",
       "                                                 'NOx': 6, 'O3': 7, 'PM10': 8,\n",
       "                                                 'PM2.5': 9, 'RAINFALL': 10,\n",
       "                                                 'RH': 11, 'SO2': 12, 'THC': 13,\n",
       "                                                 'WD_HR': 14, 'WIND_DIREC': 15,\n",
       "                                                 'WIND_SPEED': 16, 'WS_HR': 17})),\n",
       " ('variance', VarianceThreshold(threshold=0.08)),\n",
       " ('scaler', StandardScaler(copy=True, with_mean=True, with_std=True)),\n",
       " ('model',\n",
       "  LinearRegression(copy_X=True, fit_intercept=True, n_jobs=None, normalize=False))]"
      ]
     },
     "execution_count": 253,
     "metadata": {},
     "output_type": "execute_result"
    }
   ],
   "source": [
    "pipeline.steps[1][1].threshold = 0.08\n",
    "pipeline.steps"
   ]
  },
  {
   "cell_type": "markdown",
   "metadata": {},
   "source": [
    "# F值过滤 #"
   ]
  },
  {
   "cell_type": "markdown",
   "metadata": {},
   "source": [
    "### 1. 初始feature_model"
   ]
  },
  {
   "cell_type": "code",
   "execution_count": 276,
   "metadata": {},
   "outputs": [
    {
     "data": {
      "text/plain": [
       "[('options',\n",
       "  SelectTestOptionTransformer(exclude=['RH', 'THC', 'NMHC', 'AMB_TEMP',\n",
       "                                       'WIND_DIREC', 'NO2', 'WS_HR', 'WIND_SPEED',\n",
       "                                       'WD_HR', 'RAINFALL', 'CH4'],\n",
       "                              exclude_index=None,\n",
       "                              test_option_index={'AMB_TEMP': 0, 'CH4': 1, 'CO': 2,\n",
       "                                                 'NMHC': 3, 'NO': 4, 'NO2': 5,\n",
       "                                                 'NOx': 6, 'O3': 7, 'PM10': 8,\n",
       "                                                 'PM2.5': 9, 'RAINFALL': 10,\n",
       "                                                 'RH': 11, 'SO2': 12, 'THC': 13,\n",
       "                                                 'WD_HR': 14, 'WIND_DIREC': 15,\n",
       "                                                 'WIND_SPEED': 16, 'WS_HR': 17})),\n",
       " ('variance', VarianceThreshold(threshold=0.08)),\n",
       " ('scaler', StandardScaler(copy=True, with_mean=True, with_std=True))]"
      ]
     },
     "execution_count": 276,
     "metadata": {},
     "output_type": "execute_result"
    }
   ],
   "source": [
    "options.exclude = exclude_params\n",
    "\n",
    "feature_model.steps.insert(1,('variance',VarianceThreshold(0.08)))\n",
    "feature_model.steps"
   ]
  },
  {
   "cell_type": "markdown",
   "metadata": {},
   "source": [
    "### 2. 确定当前还有多少个Feature "
   ]
  },
  {
   "cell_type": "code",
   "execution_count": 279,
   "metadata": {},
   "outputs": [
    {
     "data": {
      "text/plain": [
       "(5652, 162)"
      ]
     },
     "execution_count": 279,
     "metadata": {},
     "output_type": "execute_result"
    }
   ],
   "source": [
    "X_train_full.shape"
   ]
  },
  {
   "cell_type": "code",
   "execution_count": 278,
   "metadata": {},
   "outputs": [
    {
     "data": {
      "text/plain": [
       "(5652, 63)"
      ]
     },
     "execution_count": 278,
     "metadata": {},
     "output_type": "execute_result"
    }
   ],
   "source": [
    "X_data = feature_model.fit_transform(X_train_full)\n",
    "X_data.shape"
   ]
  },
  {
   "cell_type": "markdown",
   "metadata": {},
   "source": [
    "### 3. 通过p值确定k值 "
   ]
  },
  {
   "cell_type": "code",
   "execution_count": 282,
   "metadata": {},
   "outputs": [
    {
     "data": {
      "text/plain": [
       "array([9.01953121e-040, 1.18122809e-050, 1.83153002e-064, 7.82431674e-077,\n",
       "       3.23492200e-092, 1.15861494e-105, 5.09042927e-124, 2.29597452e-137,\n",
       "       7.02550385e-130, 2.35349439e-026, 7.64788415e-030, 2.04611728e-033,\n",
       "       2.74239657e-033, 1.10780484e-033, 6.97806615e-032, 3.64720657e-028,\n",
       "       4.65089293e-020, 2.45734722e-009, 6.83391962e-075, 2.51764284e-094,\n",
       "       6.57990780e-119, 3.81322547e-144, 3.57100502e-172, 3.48356375e-199,\n",
       "       4.94767136e-226, 4.87070124e-244, 6.62053998e-230, 2.39271738e-026,\n",
       "       3.86177177e-040, 7.06270621e-058, 9.38726691e-081, 1.24949041e-108,\n",
       "       2.44901093e-139, 1.62974941e-168, 1.27772567e-188, 1.02066189e-190,\n",
       "       2.60193240e-211, 1.55752152e-257, 3.93030026e-308, 0.00000000e+000,\n",
       "       0.00000000e+000, 0.00000000e+000, 0.00000000e+000, 0.00000000e+000,\n",
       "       0.00000000e+000, 6.83245693e-258, 2.98072184e-307, 0.00000000e+000,\n",
       "       0.00000000e+000, 0.00000000e+000, 0.00000000e+000, 0.00000000e+000,\n",
       "       0.00000000e+000, 0.00000000e+000, 3.53050218e-042, 3.86564710e-062,\n",
       "       2.24601462e-079, 2.00646678e-103, 2.71510859e-131, 9.14055691e-162,\n",
       "       3.42867366e-192, 1.67375047e-221, 3.40881919e-220])"
      ]
     },
     "execution_count": 282,
     "metadata": {},
     "output_type": "execute_result"
    }
   ],
   "source": [
    "from sklearn.feature_selection import f_regression\n",
    "X_data_f,X_data_p = f_regression(X_data,y_train_full) \n",
    "X_data_p"
   ]
  },
  {
   "cell_type": "code",
   "execution_count": 286,
   "metadata": {},
   "outputs": [
    {
     "data": {
      "text/plain": [
       "63"
      ]
     },
     "execution_count": 286,
     "metadata": {},
     "output_type": "execute_result"
    }
   ],
   "source": [
    "(X_data_p < 0.05).sum()"
   ]
  },
  {
   "cell_type": "markdown",
   "metadata": {},
   "source": [
    "### 4. 添加到pipeline中"
   ]
  },
  {
   "cell_type": "code",
   "execution_count": 304,
   "metadata": {},
   "outputs": [
    {
     "data": {
      "text/plain": [
       "[('feature_model',\n",
       "  Pipeline(memory=None,\n",
       "           steps=[('options',\n",
       "                   SelectTestOptionTransformer(exclude=['RH', 'THC', 'NMHC',\n",
       "                                                        'AMB_TEMP', 'WIND_DIREC',\n",
       "                                                        'NO2', 'WS_HR',\n",
       "                                                        'WIND_SPEED', 'WD_HR',\n",
       "                                                        'RAINFALL', 'CH4'],\n",
       "                                               exclude_index=None,\n",
       "                                               test_option_index={'AMB_TEMP': 0,\n",
       "                                                                  'CH4': 1,\n",
       "                                                                  'CO': 2,\n",
       "                                                                  'NMHC': 3,\n",
       "                                                                  'NO': 4,\n",
       "                                                                  'NO2': 5,\n",
       "                                                                  'NOx': 6,\n",
       "                                                                  'O3': 7,\n",
       "                                                                  'PM10': 8,\n",
       "                                                                  'PM2.5': 9,\n",
       "                                                                  'RAINFALL': 10,\n",
       "                                                                  'RH': 11,\n",
       "                                                                  'SO2': 12,\n",
       "                                                                  'THC': 13,\n",
       "                                                                  'WD_HR': 14,\n",
       "                                                                  'WIND_DIREC': 15,\n",
       "                                                                  'WIND_SPEED': 16,\n",
       "                                                                  'WS_HR': 17})),\n",
       "                  ('variance', VarianceThreshold(threshold=0.08)),\n",
       "                  ('scaler',\n",
       "                   StandardScaler(copy=True, with_mean=True, with_std=True)),\n",
       "                  ('f',\n",
       "                   SelectKBest(k=63,\n",
       "                               score_func=<function f_regression at 0x11a31cc20>))],\n",
       "           verbose=False)),\n",
       " ('model',\n",
       "  LinearRegression(copy_X=True, fit_intercept=True, n_jobs=None, normalize=False))]"
      ]
     },
     "execution_count": 304,
     "metadata": {},
     "output_type": "execute_result"
    }
   ],
   "source": [
    "from sklearn.feature_selection import SelectKBest\n",
    "if len(feature_model.steps) == 3:\n",
    "    feature_model.steps.append(('f',SelectKBest(f_regression,63)))\n",
    "pipeline.steps[1] = ('model',LinearRegression())\n",
    "pipeline.steps"
   ]
  },
  {
   "cell_type": "markdown",
   "metadata": {},
   "source": [
    "### 5. 画学习曲线 \n",
    "1. 从p值分析来看，所有的Feature都是相关的\n",
    "2. 但是，画学习曲线发现，当k取值是54时，准确率显著提升，但是，最后test的测试数据有下降\n",
    "3. 把cv提升到10之后，发现原来54时的悬崖消失了，但是高点在36，不过整体差别不大  \n",
    "\n",
    "**总结**:以p值分析为准，学习曲线和test效果不一致有可能是测试随机性导致的"
   ]
  },
  {
   "cell_type": "code",
   "execution_count": 353,
   "metadata": {},
   "outputs": [
    {
     "name": "stderr",
     "output_type": "stream",
     "text": [
      "[Parallel(n_jobs=4)]: Using backend LokyBackend with 4 concurrent workers.\n",
      "[Parallel(n_jobs=4)]: Done 315 out of 315 | elapsed:   20.6s finished\n"
     ]
    },
    {
     "data": {
      "image/png": "[encoded data removed]",
      "text/plain": [
       "<Figure size 432x288 with 1 Axes>"
      ]
     },
     "metadata": {
      "needs_background": "light"
     },
     "output_type": "display_data"
    }
   ],
   "source": [
    "history = search_utils.search('feature_model__f__k',range(1,64),ylim=(0.65,0.9))"
   ]
  },
  {
   "cell_type": "code",
   "execution_count": 354,
   "metadata": {},
   "outputs": [
    {
     "name": "stderr",
     "output_type": "stream",
     "text": [
      "[Parallel(n_jobs=4)]: Using backend LokyBackend with 4 concurrent workers.\n",
      "[Parallel(n_jobs=4)]: Done 630 out of 630 | elapsed:   42.2s finished\n"
     ]
    },
    {
     "data": {
      "image/png": "[encoded data removed]",
      "text/plain": [
       "<Figure size 432x288 with 1 Axes>"
      ]
     },
     "metadata": {
      "needs_background": "light"
     },
     "output_type": "display_data"
    }
   ],
   "source": [
    "history = search_utils.search('feature_model__f__k',range(1,64),ylim=(0.65,0.9),cv=10)"
   ]
  },
  {
   "cell_type": "markdown",
   "metadata": {},
   "source": [
    "### 6. 画学习曲线 "
   ]
  },
  {
   "cell_type": "code",
   "execution_count": 338,
   "metadata": {},
   "outputs": [
    {
     "data": {
      "text/plain": [
       "12"
      ]
     },
     "execution_count": 338,
     "metadata": {},
     "output_type": "execute_result"
    }
   ],
   "source": [
    "len(train_best_scores)"
   ]
  },
  {
   "cell_type": "code",
   "execution_count": 341,
   "metadata": {},
   "outputs": [
    {
     "data": {
      "image/png": "[encoded data removed]",
      "text/plain": [
       "<Figure size 432x288 with 1 Axes>"
      ]
     },
     "metadata": {
      "needs_background": "light"
     },
     "output_type": "display_data"
    }
   ],
   "source": [
    "plot_history(history,12)"
   ]
  },
  {
   "cell_type": "markdown",
   "metadata": {},
   "source": [
    "# 互信息法"
   ]
  },
  {
   "cell_type": "markdown",
   "metadata": {},
   "source": [
    "## 测试一下数据"
   ]
  },
  {
   "cell_type": "code",
   "execution_count": 367,
   "metadata": {},
   "outputs": [
    {
     "data": {
      "text/plain": [
       "[('options',\n",
       "  SelectTestOptionTransformer(exclude=['RH', 'THC', 'NMHC', 'AMB_TEMP',\n",
       "                                       'WIND_DIREC', 'NO2', 'WS_HR', 'WIND_SPEED',\n",
       "                                       'WD_HR', 'RAINFALL', 'CH4'],\n",
       "                              exclude_index=None,\n",
       "                              test_option_index={'AMB_TEMP': 0, 'CH4': 1, 'CO': 2,\n",
       "                                                 'NMHC': 3, 'NO': 4, 'NO2': 5,\n",
       "                                                 'NOx': 6, 'O3': 7, 'PM10': 8,\n",
       "                                                 'PM2.5': 9, 'RAINFALL': 10,\n",
       "                                                 'RH': 11, 'SO2': 12, 'THC': 13,\n",
       "                                                 'WD_HR': 14, 'WIND_DIREC': 15,\n",
       "                                                 'WIND_SPEED': 16, 'WS_HR': 17})),\n",
       " ('variance', VarianceThreshold(threshold=0.08)),\n",
       " ('scaler', StandardScaler(copy=True, with_mean=True, with_std=True))]"
      ]
     },
     "execution_count": 367,
     "metadata": {},
     "output_type": "execute_result"
    }
   ],
   "source": [
    "feature_model.steps.remove(feature_model.steps[3])\n",
    "feature_model.steps"
   ]
  },
  {
   "cell_type": "code",
   "execution_count": 368,
   "metadata": {},
   "outputs": [
    {
     "data": {
      "text/plain": [
       "(5652, 63)"
      ]
     },
     "execution_count": 368,
     "metadata": {},
     "output_type": "execute_result"
    }
   ],
   "source": [
    "X_data = feature_model.fit_transform(X_train_full,y_train_full)\n",
    "X_data.shape"
   ]
  },
  {
   "cell_type": "code",
   "execution_count": 370,
   "metadata": {},
   "outputs": [
    {
     "data": {
      "text/plain": [
       "array([0.06762967, 0.07488442, 0.06595027, 0.09132981, 0.05775086,\n",
       "       0.07793993, 0.06691501, 0.08589263, 0.08437736, 0.04481928,\n",
       "       0.05520053, 0.07349067, 0.05793533, 0.07629211, 0.07686025,\n",
       "       0.09103272, 0.07334595, 0.08891713, 0.06995463, 0.1139323 ,\n",
       "       0.12262258, 0.12227581, 0.13881322, 0.16999182, 0.17508876,\n",
       "       0.17836935, 0.18260254, 0.03273758, 0.04729347, 0.05712293,\n",
       "       0.04643427, 0.08631747, 0.08100352, 0.09119633, 0.09677759,\n",
       "       0.11567184, 0.00534948, 0.02904804, 0.01853443, 0.02014136,\n",
       "       0.03971885, 0.03044068, 0.01475069, 0.01614043, 0.03592388,\n",
       "       0.0468296 , 0.06091999, 0.07142459, 0.06306555, 0.08599154,\n",
       "       0.11324399, 0.13451738, 0.14937575, 0.15938898, 0.03696703,\n",
       "       0.04962441, 0.06271606, 0.06497788, 0.07208802, 0.09311822,\n",
       "       0.10756142, 0.11399585, 0.09691902, 0.03537626, 0.04253387,\n",
       "       0.06336896, 0.0629532 , 0.08025341, 0.08576251, 0.12291564,\n",
       "       0.11882384, 0.12592994, 0.0892836 , 0.129517  , 0.14066579,\n",
       "       0.15147027, 0.18607427, 0.20948116, 0.25097681, 0.31946167,\n",
       "       0.41551697, 0.12858394, 0.13744178, 0.17124904, 0.20024292,\n",
       "       0.21820119, 0.31114834, 0.35897732, 0.54899741, 0.90476723,\n",
       "       0.01270007, 0.0195915 , 0.0096138 , 0.01815439, 0.02918988,\n",
       "       0.03021402, 0.029192  , 0.02166009, 0.0038362 , 0.04212284,\n",
       "       0.05106705, 0.04646952, 0.07382806, 0.09936262, 0.0811682 ,\n",
       "       0.07818594, 0.06033262, 0.08848729, 0.04793567, 0.0513029 ,\n",
       "       0.06484264, 0.08342276, 0.08641375, 0.08549235, 0.12524871,\n",
       "       0.12598507, 0.13207579, 0.06713324, 0.05673034, 0.06367611,\n",
       "       0.07439021, 0.09805166, 0.1120028 , 0.12425788, 0.11446851,\n",
       "       0.11758303, 0.04459918, 0.05702506, 0.06165089, 0.07901106,\n",
       "       0.09096102, 0.0795808 , 0.07516071, 0.08044342, 0.09919464,\n",
       "       0.0516265 , 0.01906994, 0.05474015, 0.04003639, 0.05119468,\n",
       "       0.06667429, 0.05323527, 0.05326894, 0.0559956 , 0.01763245,\n",
       "       0.01871192, 0.03222862, 0.        , 0.00635427, 0.        ,\n",
       "       0.01252051, 0.00573406, 0.02887924, 0.04636948, 0.01737554,\n",
       "       0.02162162, 0.01057683, 0.0169627 , 0.00997845, 0.0252591 ,\n",
       "       0.02826463, 0.00315874])"
      ]
     },
     "execution_count": 370,
     "metadata": {},
     "output_type": "execute_result"
    }
   ],
   "source": [
    "from sklearn.feature_selection import mutual_info_regression\n",
    "\n",
    "X_data1 = mutual_info_regression(X_train_full,y_train_full)\n",
    "X_data1"
   ]
  },
  {
   "cell_type": "code",
   "execution_count": 374,
   "metadata": {},
   "outputs": [
    {
     "data": {
      "text/plain": [
       "61"
      ]
     },
     "execution_count": 374,
     "metadata": {},
     "output_type": "execute_result"
    }
   ],
   "source": [
    "X_data.shape[1] - (X_data1 == 0).sum()"
   ]
  },
  {
   "cell_type": "markdown",
   "metadata": {},
   "source": [
    "## 使用互信息法 ##"
   ]
  },
  {
   "cell_type": "code",
   "execution_count": 391,
   "metadata": {},
   "outputs": [
    {
     "data": {
      "text/plain": [
       "[('feature_model',\n",
       "  Pipeline(memory=None,\n",
       "           steps=[('options',\n",
       "                   SelectTestOptionTransformer(exclude=['RH', 'THC', 'NMHC',\n",
       "                                                        'AMB_TEMP', 'WIND_DIREC',\n",
       "                                                        'NO2', 'WS_HR',\n",
       "                                                        'WIND_SPEED', 'WD_HR',\n",
       "                                                        'RAINFALL', 'CH4'],\n",
       "                                               exclude_index=None,\n",
       "                                               test_option_index={'AMB_TEMP': 0,\n",
       "                                                                  'CH4': 1,\n",
       "                                                                  'CO': 2,\n",
       "                                                                  'NMHC': 3,\n",
       "                                                                  'NO': 4,\n",
       "                                                                  'NO2': 5,\n",
       "                                                                  'NOx': 6,\n",
       "                                                                  'O3': 7,\n",
       "                                                                  'PM10': 8,\n",
       "                                                                  'PM2.5': 9,\n",
       "                                                                  'RAINFALL': 10,\n",
       "                                                                  'RH': 11,\n",
       "                                                                  'SO2': 12,\n",
       "                                                                  'THC': 13,\n",
       "                                                                  'WD_HR': 14,\n",
       "                                                                  'WIND_DIREC': 15,\n",
       "                                                                  'WIND_SPEED': 16,\n",
       "                                                                  'WS_HR': 17})),\n",
       "                  ('variance', VarianceThreshold(threshold=0.08)),\n",
       "                  ('scaler',\n",
       "                   StandardScaler(copy=True, with_mean=True, with_std=True)),\n",
       "                  ('mir',\n",
       "                   SelectKBest(k=61,\n",
       "                               score_func=<function mutual_info_regression at 0x11a320f80>))],\n",
       "           verbose=False)),\n",
       " ('model',\n",
       "  LinearRegression(copy_X=True, fit_intercept=True, n_jobs=None, normalize=False))]"
      ]
     },
     "execution_count": 391,
     "metadata": {},
     "output_type": "execute_result"
    }
   ],
   "source": [
    "if len(feature_model.steps) == 3:\n",
    "    feature_model.steps.append(('mir',SelectKBest(mutual_info_regression,61)))\n",
    "pipeline.steps[1] = ('model',LinearRegression())\n",
    "pipeline.steps"
   ]
  },
  {
   "cell_type": "code",
   "execution_count": 392,
   "metadata": {},
   "outputs": [],
   "source": [
    "X_data2 = feature_model.fit_transform(X_train_full,y_train_full) # 测试feature_model是否可以正常"
   ]
  },
  {
   "cell_type": "code",
   "execution_count": 393,
   "metadata": {},
   "outputs": [
    {
     "data": {
      "text/plain": [
       "(5652, 61)"
      ]
     },
     "execution_count": 393,
     "metadata": {},
     "output_type": "execute_result"
    }
   ],
   "source": [
    "X_data2.shape # 测试返回结果是否删除0关联feature"
   ]
  },
  {
   "cell_type": "code",
   "execution_count": 395,
   "metadata": {},
   "outputs": [
    {
     "data": {
      "text/plain": [
       "Pipeline(memory=None,\n",
       "         steps=[('feature_model',\n",
       "                 Pipeline(memory=None,\n",
       "                          steps=[('options',\n",
       "                                  SelectTestOptionTransformer(exclude=['RH',\n",
       "                                                                       'THC',\n",
       "                                                                       'NMHC',\n",
       "                                                                       'AMB_TEMP',\n",
       "                                                                       'WIND_DIREC',\n",
       "                                                                       'NO2',\n",
       "                                                                       'WS_HR',\n",
       "                                                                       'WIND_SPEED',\n",
       "                                                                       'WD_HR',\n",
       "                                                                       'RAINFALL',\n",
       "                                                                       'CH4'],\n",
       "                                                              exclude_index=None,\n",
       "                                                              test_option_index={'AMB_TEMP': 0,\n",
       "                                                                                 'CH4': 1,\n",
       "                                                                                 'CO': 2,\n",
       "                                                                                 'NMHC': 3,\n",
       "                                                                                 'NO': 4,\n",
       "                                                                                 'NO2': 5,\n",
       "                                                                                 'NOx': 6,\n",
       "                                                                                 'O3': 7,\n",
       "                                                                                 'PM10': 8,\n",
       "                                                                                 'PM2.5': 9,\n",
       "                                                                                 'RAINFALL'...\n",
       "                                                                                 'WIND_DIREC': 15,\n",
       "                                                                                 'WIND_SPEED': 16,\n",
       "                                                                                 'WS_HR': 17})),\n",
       "                                 ('variance',\n",
       "                                  VarianceThreshold(threshold=0.08)),\n",
       "                                 ('scaler',\n",
       "                                  StandardScaler(copy=True, with_mean=True,\n",
       "                                                 with_std=True)),\n",
       "                                 ('mir',\n",
       "                                  SelectKBest(k=61,\n",
       "                                              score_func=<function mutual_info_regression at 0x11a320f80>))],\n",
       "                          verbose=False)),\n",
       "                ('model',\n",
       "                 LinearRegression(copy_X=True, fit_intercept=True, n_jobs=None,\n",
       "                                  normalize=False))],\n",
       "         verbose=False)"
      ]
     },
     "execution_count": 395,
     "metadata": {},
     "output_type": "execute_result"
    }
   ],
   "source": [
    "pipeline.fit(X_train_full,y_train_full)"
   ]
  },
  {
   "cell_type": "code",
   "execution_count": 396,
   "metadata": {},
   "outputs": [
    {
     "data": {
      "text/plain": [
       "0.8800980196540122"
      ]
     },
     "execution_count": 396,
     "metadata": {},
     "output_type": "execute_result"
    }
   ],
   "source": [
    "pipeline.score(X_train_full,y_train_full)"
   ]
  },
  {
   "cell_type": "code",
   "execution_count": 383,
   "metadata": {},
   "outputs": [
    {
     "name": "stderr",
     "output_type": "stream",
     "text": [
      "/Users/zhangshilan/.pyenv/versions/new/lib/python3.7/site-packages/sklearn/model_selection/_validation.py:536: FitFailedWarning: Estimator fit failed. The score on this train-test partition for these parameters will be set to nan. Details: \n",
      "ValueError: k should be >=0, <= n_features = 54; got 61. Use k='all' to return all features.\n",
      "\n",
      "  FitFailedWarning)\n"
     ]
    },
    {
     "data": {
      "text/plain": [
       "nan"
      ]
     },
     "execution_count": 383,
     "metadata": {},
     "output_type": "execute_result"
    }
   ],
   "source": [
    "cross_val_score(pipeline,X_train_full,y_train_full).mean()"
   ]
  },
  {
   "cell_type": "markdown",
   "metadata": {},
   "source": [
    "# 输出数据 #"
   ]
  },
  {
   "cell_type": "code",
   "execution_count": 397,
   "metadata": {},
   "outputs": [
    {
     "data": {
      "text/plain": [
       "[('feature_model',\n",
       "  Pipeline(memory=None,\n",
       "           steps=[('options',\n",
       "                   SelectTestOptionTransformer(exclude=['RH', 'THC', 'NMHC',\n",
       "                                                        'AMB_TEMP', 'WIND_DIREC',\n",
       "                                                        'NO2', 'WS_HR',\n",
       "                                                        'WIND_SPEED', 'WD_HR',\n",
       "                                                        'RAINFALL', 'CH4'],\n",
       "                                               exclude_index=None,\n",
       "                                               test_option_index={'AMB_TEMP': 0,\n",
       "                                                                  'CH4': 1,\n",
       "                                                                  'CO': 2,\n",
       "                                                                  'NMHC': 3,\n",
       "                                                                  'NO': 4,\n",
       "                                                                  'NO2': 5,\n",
       "                                                                  'NOx': 6,\n",
       "                                                                  'O3': 7,\n",
       "                                                                  'PM10': 8,\n",
       "                                                                  'PM2.5': 9,\n",
       "                                                                  'RAINFALL': 10,\n",
       "                                                                  'RH': 11,\n",
       "                                                                  'SO2': 12,\n",
       "                                                                  'THC': 13,\n",
       "                                                                  'WD_HR': 14,\n",
       "                                                                  'WIND_DIREC': 15,\n",
       "                                                                  'WIND_SPEED': 16,\n",
       "                                                                  'WS_HR': 17})),\n",
       "                  ('variance', VarianceThreshold(threshold=0.08)),\n",
       "                  ('scaler',\n",
       "                   StandardScaler(copy=True, with_mean=True, with_std=True)),\n",
       "                  ('mir',\n",
       "                   SelectKBest(k=61,\n",
       "                               score_func=<function mutual_info_regression at 0x11a320f80>))],\n",
       "           verbose=False)),\n",
       " ('model',\n",
       "  LinearRegression(copy_X=True, fit_intercept=True, n_jobs=None, normalize=False))]"
      ]
     },
     "execution_count": 397,
     "metadata": {},
     "output_type": "execute_result"
    }
   ],
   "source": [
    "pipeline.steps"
   ]
  },
  {
   "cell_type": "code",
   "execution_count": 398,
   "metadata": {},
   "outputs": [
    {
     "name": "stdout",
     "output_type": "stream",
     "text": [
      "训练集的RMSE:5.75124\n"
     ]
    }
   ],
   "source": [
    "pipeline.fit(X_train_full,y_train_full)\n",
    "\n",
    "preds_train_full = pipeline.predict(X_train_full)\n",
    "print('训练集的RMSE:{:.5f}'.format(mean_squared_error(preds_train_full,y_train_full)**0.5))\n",
    "\n",
    "preds_test = pipeline.predict(X_test)\n",
    "ids = ['id_' + str(i) for i in range(len(X_test))]\n",
    "output = pd.DataFrame({'id':ids,\n",
    "                       'value':preds_test})\n",
    "output.to_csv('output/pm25_submission.csv',index=False)"
   ]
  },
  {
   "cell_type": "markdown",
   "metadata": {},
   "source": [
    "# 使用随机森林 #"
   ]
  },
  {
   "cell_type": "code",
   "execution_count": 358,
   "metadata": {},
   "outputs": [
    {
     "data": {
      "text/plain": [
       "[('feature_model',\n",
       "  Pipeline(memory=None,\n",
       "           steps=[('options',\n",
       "                   SelectTestOptionTransformer(exclude=['RH', 'THC', 'NMHC',\n",
       "                                                        'AMB_TEMP', 'WIND_DIREC',\n",
       "                                                        'NO2', 'WS_HR',\n",
       "                                                        'WIND_SPEED', 'WD_HR',\n",
       "                                                        'RAINFALL', 'CH4'],\n",
       "                                               exclude_index=None,\n",
       "                                               test_option_index={'AMB_TEMP': 0,\n",
       "                                                                  'CH4': 1,\n",
       "                                                                  'CO': 2,\n",
       "                                                                  'NMHC': 3,\n",
       "                                                                  'NO': 4,\n",
       "                                                                  'NO2': 5,\n",
       "                                                                  'NOx': 6,\n",
       "                                                                  'O3': 7,\n",
       "                                                                  'PM10': 8,\n",
       "                                                                  'PM2.5': 9,\n",
       "                                                                  'RAINFALL': 10,\n",
       "                                                                  'RH': 11,\n",
       "                                                                  'SO2': 12,\n",
       "                                                                  'THC': 13,\n",
       "                                                                  'WD_HR': 14,\n",
       "                                                                  'WIND_DIREC': 15,\n",
       "                                                                  'WIND_SPEED': 16,\n",
       "                                                                  'WS_HR': 17})),\n",
       "                  ('variance', VarianceThreshold(threshold=0.08)),\n",
       "                  ('scaler',\n",
       "                   StandardScaler(copy=True, with_mean=True, with_std=True)),\n",
       "                  ('f',\n",
       "                   SelectKBest(k=54,\n",
       "                               score_func=<function f_regression at 0x11a31cc20>))],\n",
       "           verbose=False)),\n",
       " ('model',\n",
       "  RandomForestRegressor(bootstrap=True, ccp_alpha=0.0, criterion='mse',\n",
       "                        max_depth=None, max_features='auto', max_leaf_nodes=None,\n",
       "                        max_samples=None, min_impurity_decrease=0.0,\n",
       "                        min_impurity_split=None, min_samples_leaf=1,\n",
       "                        min_samples_split=2, min_weight_fraction_leaf=0.0,\n",
       "                        n_estimators=100, n_jobs=None, oob_score=False,\n",
       "                        random_state=None, verbose=0, warm_start=False))]"
      ]
     },
     "execution_count": 358,
     "metadata": {},
     "output_type": "execute_result"
    }
   ],
   "source": [
    "pipeline.steps[1] = ('model',RandomForestRegressor())\n",
    "pipeline.steps"
   ]
  },
  {
   "cell_type": "code",
   "execution_count": 359,
   "metadata": {},
   "outputs": [
    {
     "data": {
      "text/plain": [
       "0.8094118087976636"
      ]
     },
     "execution_count": 359,
     "metadata": {},
     "output_type": "execute_result"
    }
   ],
   "source": [
    "cross_val_score(pipeline,X_train_full,y_train_full).mean()"
   ]
  },
  {
   "cell_type": "code",
   "execution_count": null,
   "metadata": {},
   "outputs": [],
   "source": [
    " "
   ]
  }
 ],
 "metadata": {
  "kernelspec": {
   "display_name": "Python 3",
   "language": "python",
   "name": "python3"
  },
  "language_info": {
   "codemirror_mode": {
    "name": "ipython",
    "version": 3
   },
   "file_extension": ".py",
   "mimetype": "text/x-python",
   "name": "python",
   "nbconvert_exporter": "python",
   "pygments_lexer": "ipython3",
   "version": "3.7.6"
  }
 },
 "nbformat": 4,
 "nbformat_minor": 4
}
